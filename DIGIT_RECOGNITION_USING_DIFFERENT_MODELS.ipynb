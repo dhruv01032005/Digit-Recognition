{
  "nbformat": 4,
  "nbformat_minor": 0,
  "metadata": {
    "colab": {
      "provenance": []
    },
    "kernelspec": {
      "name": "python3",
      "display_name": "Python 3"
    },
    "language_info": {
      "name": "python"
    }
  },
  "cells": [
    {
      "cell_type": "code",
      "execution_count": 56,
      "metadata": {
        "colab": {
          "base_uri": "https://localhost:8080/"
        },
        "id": "c3H_i5zRvVOq",
        "outputId": "9758be30-292b-4def-94e6-697fb907fe4f"
      },
      "outputs": [
        {
          "output_type": "stream",
          "name": "stdout",
          "text": [
            "Requirement already satisfied: datasets in /usr/local/lib/python3.11/dist-packages (3.3.0)\n",
            "Requirement already satisfied: filelock in /usr/local/lib/python3.11/dist-packages (from datasets) (3.17.0)\n",
            "Requirement already satisfied: numpy>=1.17 in /usr/local/lib/python3.11/dist-packages (from datasets) (1.26.4)\n",
            "Requirement already satisfied: pyarrow>=15.0.0 in /usr/local/lib/python3.11/dist-packages (from datasets) (17.0.0)\n",
            "Requirement already satisfied: dill<0.3.9,>=0.3.0 in /usr/local/lib/python3.11/dist-packages (from datasets) (0.3.8)\n",
            "Requirement already satisfied: pandas in /usr/local/lib/python3.11/dist-packages (from datasets) (2.2.2)\n",
            "Requirement already satisfied: requests>=2.32.2 in /usr/local/lib/python3.11/dist-packages (from datasets) (2.32.3)\n",
            "Requirement already satisfied: tqdm>=4.66.3 in /usr/local/lib/python3.11/dist-packages (from datasets) (4.67.1)\n",
            "Requirement already satisfied: xxhash in /usr/local/lib/python3.11/dist-packages (from datasets) (3.5.0)\n",
            "Requirement already satisfied: multiprocess<0.70.17 in /usr/local/lib/python3.11/dist-packages (from datasets) (0.70.16)\n",
            "Requirement already satisfied: fsspec<=2024.12.0,>=2023.1.0 in /usr/local/lib/python3.11/dist-packages (from fsspec[http]<=2024.12.0,>=2023.1.0->datasets) (2024.10.0)\n",
            "Requirement already satisfied: aiohttp in /usr/local/lib/python3.11/dist-packages (from datasets) (3.11.12)\n",
            "Requirement already satisfied: huggingface-hub>=0.24.0 in /usr/local/lib/python3.11/dist-packages (from datasets) (0.28.1)\n",
            "Requirement already satisfied: packaging in /usr/local/lib/python3.11/dist-packages (from datasets) (24.2)\n",
            "Requirement already satisfied: pyyaml>=5.1 in /usr/local/lib/python3.11/dist-packages (from datasets) (6.0.2)\n",
            "Requirement already satisfied: aiohappyeyeballs>=2.3.0 in /usr/local/lib/python3.11/dist-packages (from aiohttp->datasets) (2.4.6)\n",
            "Requirement already satisfied: aiosignal>=1.1.2 in /usr/local/lib/python3.11/dist-packages (from aiohttp->datasets) (1.3.2)\n",
            "Requirement already satisfied: attrs>=17.3.0 in /usr/local/lib/python3.11/dist-packages (from aiohttp->datasets) (25.1.0)\n",
            "Requirement already satisfied: frozenlist>=1.1.1 in /usr/local/lib/python3.11/dist-packages (from aiohttp->datasets) (1.5.0)\n",
            "Requirement already satisfied: multidict<7.0,>=4.5 in /usr/local/lib/python3.11/dist-packages (from aiohttp->datasets) (6.1.0)\n",
            "Requirement already satisfied: propcache>=0.2.0 in /usr/local/lib/python3.11/dist-packages (from aiohttp->datasets) (0.2.1)\n",
            "Requirement already satisfied: yarl<2.0,>=1.17.0 in /usr/local/lib/python3.11/dist-packages (from aiohttp->datasets) (1.18.3)\n",
            "Requirement already satisfied: typing-extensions>=3.7.4.3 in /usr/local/lib/python3.11/dist-packages (from huggingface-hub>=0.24.0->datasets) (4.12.2)\n",
            "Requirement already satisfied: charset-normalizer<4,>=2 in /usr/local/lib/python3.11/dist-packages (from requests>=2.32.2->datasets) (3.4.1)\n",
            "Requirement already satisfied: idna<4,>=2.5 in /usr/local/lib/python3.11/dist-packages (from requests>=2.32.2->datasets) (3.10)\n",
            "Requirement already satisfied: urllib3<3,>=1.21.1 in /usr/local/lib/python3.11/dist-packages (from requests>=2.32.2->datasets) (2.3.0)\n",
            "Requirement already satisfied: certifi>=2017.4.17 in /usr/local/lib/python3.11/dist-packages (from requests>=2.32.2->datasets) (2025.1.31)\n",
            "Requirement already satisfied: python-dateutil>=2.8.2 in /usr/local/lib/python3.11/dist-packages (from pandas->datasets) (2.8.2)\n",
            "Requirement already satisfied: pytz>=2020.1 in /usr/local/lib/python3.11/dist-packages (from pandas->datasets) (2025.1)\n",
            "Requirement already satisfied: tzdata>=2022.7 in /usr/local/lib/python3.11/dist-packages (from pandas->datasets) (2025.1)\n",
            "Requirement already satisfied: six>=1.5 in /usr/local/lib/python3.11/dist-packages (from python-dateutil>=2.8.2->pandas->datasets) (1.17.0)\n"
          ]
        }
      ],
      "source": [
        "!pip install datasets"
      ]
    },
    {
      "cell_type": "code",
      "source": [
        "from datasets import load_dataset\n",
        "data = load_dataset(\"ylecun/mnist\")\n",
        "data"
      ],
      "metadata": {
        "colab": {
          "base_uri": "https://localhost:8080/"
        },
        "id": "b_oRJxXsvsKQ",
        "outputId": "633bb4f4-3d74-4b02-9c08-b3f325d382a4"
      },
      "execution_count": 57,
      "outputs": [
        {
          "output_type": "execute_result",
          "data": {
            "text/plain": [
              "DatasetDict({\n",
              "    train: Dataset({\n",
              "        features: ['image', 'label'],\n",
              "        num_rows: 60000\n",
              "    })\n",
              "    test: Dataset({\n",
              "        features: ['image', 'label'],\n",
              "        num_rows: 10000\n",
              "    })\n",
              "})"
            ]
          },
          "metadata": {},
          "execution_count": 57
        }
      ]
    },
    {
      "cell_type": "code",
      "source": [
        "# Preprocessing of the data\n",
        "\n",
        "import numpy as np\n",
        "\n",
        "train_images = np.array(data[\"train\"][\"image\"])\n",
        "train_labels = np.array(data[\"train\"][\"label\"])\n",
        "\n",
        "test_images = np.array(data[\"test\"][\"image\"])\n",
        "y_test = np.array(data[\"test\"][\"label\"])\n",
        "\n",
        "# Normalization of all the data\n",
        "train_images_norm=train_images/255\n",
        "test_images_norm=test_images/255\n",
        "\n",
        "n1=train_images.shape[0]\n",
        "n2=test_images.shape[0]\n",
        "\n",
        "# Flattening the data to make it 1-D from 2-D\n",
        "train_images_flat=train_images_norm.reshape([n1,-1])\n",
        "x_test=test_images_norm.reshape([n2,-1])"
      ],
      "metadata": {
        "id": "GnaTxT5TvxVr"
      },
      "execution_count": 58,
      "outputs": []
    },
    {
      "cell_type": "code",
      "source": [
        "# Setting a random seed\n",
        "np.random.seed(42)\n",
        "\n",
        "# Defining the number of initially labeled samples\n",
        "num_labeled = 10000\n",
        "\n",
        "# Generating random indices for the labeled dataset\n",
        "labeled_indices = np.random.choice(len(train_images_flat), num_labeled, replace=False)\n",
        "\n",
        "# Spliting the datasets into labeled and unlabeled datasets\n",
        "x_train = train_images_flat[labeled_indices]\n",
        "y_train = train_labels[labeled_indices]"
      ],
      "metadata": {
        "id": "Cet9eqRSEP8k"
      },
      "execution_count": 59,
      "outputs": []
    },
    {
      "cell_type": "markdown",
      "source": [
        "## Vanilla Linear Regression"
      ],
      "metadata": {
        "id": "lC005Oh21WLp"
      }
    },
    {
      "cell_type": "code",
      "source": [
        "from sklearn.linear_model import LinearRegression\n",
        "from sklearn.metrics import accuracy_score, precision_score, recall_score, f1_score\n",
        "import numpy as np\n",
        "import time\n",
        "\n",
        "start_time = time.time()\n",
        "# Training using vanilla Linear Regression Model\n",
        "lin_reg = LinearRegression()\n",
        "lin_reg.fit(x_train, y_train)\n",
        "end_time = time.time()\n",
        "\n",
        "# Calculating training time\n",
        "training_time_model_1 = end_time-start_time\n",
        "\n",
        "# Predicting the value on test and rounding it off to closest integer and cliping it from 0 to 9\n",
        "y_pred = lin_reg.predict(x_test)\n",
        "y_pred = np.round(y_pred).astype(int)\n",
        "y_pred = np.clip(y_pred, 0, 9)"
      ],
      "metadata": {
        "id": "9LGx4-XC0xtK"
      },
      "execution_count": 60,
      "outputs": []
    },
    {
      "cell_type": "code",
      "source": [
        "# Finding accuracy, precision, recall and f1 score for the model\n",
        "accuracy_percentage_model_1=(accuracy_score(y_test,y_pred))*100\n",
        "precision_percentage_model_1=(precision_score(y_test, y_pred, average=\"weighted\"))*100\n",
        "recall_percentage_model_1=(recall_score(y_test,y_pred, average=\"weighted\"))*100\n",
        "f1_percentage_model_1=(f1_score(y_test,y_pred, average=\"weighted\"))*100\n",
        "\n",
        "print(\"Vanilla Linear Regression Stats:\")\n",
        "print(f\"Accuracy: {accuracy_percentage_model_1:.2f}%\")\n",
        "print(f\"Precision: {precision_percentage_model_1:.2f}%\")\n",
        "print(f\"Recall: {recall_percentage_model_1:.2f}%\")\n",
        "print(f\"F1 Score: {f1_percentage_model_1:.2f}%\")\n",
        "print(f\"Training time: {training_time_model_1:.2f}sec\")"
      ],
      "metadata": {
        "colab": {
          "base_uri": "https://localhost:8080/"
        },
        "id": "Yv0CivhNBzza",
        "outputId": "d2efbb2d-7c4a-42c3-8d76-39905f8be17f"
      },
      "execution_count": 61,
      "outputs": [
        {
          "output_type": "stream",
          "name": "stdout",
          "text": [
            "Vanilla Linear Regression Stats:\n",
            "Accuracy: 22.42%\n",
            "Precision: 28.31%\n",
            "Recall: 22.42%\n",
            "F1 Score: 22.95%\n",
            "Training time: 7.65sec\n"
          ]
        }
      ]
    },
    {
      "cell_type": "markdown",
      "source": [
        "## Polynomial Regression\n",
        "This can't be performed as each digit has 28 * 28 parameters which make 28 * 28 * 28 * 28 coefficients for degree 2 amking it intensively high for the computer to handle. \\\n",
        "So, we can reduce the dimension of it to 2 or 3 using PCA or tSNE and then apply polynomial regression."
      ],
      "metadata": {
        "id": "RR5Eyy2DHnV_"
      }
    },
    {
      "cell_type": "code",
      "source": [
        "from sklearn.decomposition import PCA\n",
        "from sklearn.preprocessing import PolynomialFeatures\n",
        "from sklearn.linear_model import LinearRegression\n",
        "from sklearn.metrics import accuracy_score, precision_score, recall_score, f1_score\n",
        "import numpy as np\n",
        "import time\n",
        "\n",
        "# Apply PCA to reduce to 2 dimensions\n",
        "pca = PCA(n_components=2)\n",
        "x_train_pca = pca.fit_transform(x_train)\n",
        "x_test_pca = pca.transform(x_test)\n",
        "\n",
        "start_time = time.time()\n",
        "degree = 5\n",
        "poly = PolynomialFeatures(degree=degree)\n",
        "x_train_poly = poly.fit_transform(x_train_pca)\n",
        "x_test_poly = poly.fit_transform(x_test_pca)\n",
        "\n",
        "lin_reg_2 = LinearRegression()\n",
        "lin_reg_2.fit(x_train_poly,y_train)\n",
        "end_time = time.time()\n",
        "\n",
        "# Calculating training time\n",
        "training_time_model_2 = end_time-start_time\n",
        "\n",
        "# Predicting the value on test and rounding it off to closest integer and cliping it from 0 to 9\n",
        "y_pred = lin_reg_2.predict(x_test_poly)\n",
        "y_pred = np.round(y_pred).astype(int)\n",
        "y_pred = np.clip(y_pred, 0, 9)"
      ],
      "metadata": {
        "id": "e3b0Sl1NM4Ya"
      },
      "execution_count": 62,
      "outputs": []
    },
    {
      "cell_type": "code",
      "source": [
        "# Finding accuracy, precision, recall and f1 score for the model\n",
        "accuracy_percentage_model_2=(accuracy_score(y_test,y_pred))*100\n",
        "precision_percentage_model_2=(precision_score(y_test, y_pred, average=\"weighted\"))*100\n",
        "recall_percentage_model_2=(recall_score(y_test,y_pred, average=\"weighted\"))*100\n",
        "f1_percentage_model_2=(f1_score(y_test,y_pred, average=\"weighted\"))*100\n",
        "\n",
        "print(\"Polynomial Regression Stats:\")\n",
        "print(f\"Accuracy: {accuracy_percentage_model_2:.2f}%\")\n",
        "print(f\"Precision: {precision_percentage_model_2:.2f}%\")\n",
        "print(f\"Recall: {recall_percentage_model_2:.2f}%\")\n",
        "print(f\"F1 Score: {f1_percentage_model_2:.2f}%\")\n",
        "print(f\"Training time: {training_time_model_2:.2f}sec\")"
      ],
      "metadata": {
        "colab": {
          "base_uri": "https://localhost:8080/"
        },
        "id": "edpztHz0On7D",
        "outputId": "b46d6431-1176-49ad-a24e-ec67a780a424"
      },
      "execution_count": 63,
      "outputs": [
        {
          "output_type": "stream",
          "name": "stdout",
          "text": [
            "Polynomial Regression Stats:\n",
            "Accuracy: 19.96%\n",
            "Precision: 24.59%\n",
            "Recall: 19.96%\n",
            "F1 Score: 19.82%\n",
            "Training time: 0.04sec\n"
          ]
        }
      ]
    },
    {
      "cell_type": "markdown",
      "source": [
        "## Guassian Basis Function Regression"
      ],
      "metadata": {
        "id": "v_3mGcaOPPyM"
      }
    },
    {
      "cell_type": "code",
      "source": [
        "from sklearn.decomposition import PCA\n",
        "from sklearn.linear_model import LinearRegression\n",
        "from sklearn.metrics import accuracy_score, precision_score, recall_score, f1_score\n",
        "import numpy as np\n",
        "import time\n",
        "\n",
        "# Apply PCA to reduce to 1 dimensions\n",
        "pca = PCA(n_components=1)\n",
        "x_train_pca = pca.fit_transform(x_train)\n",
        "x_test_pca = pca.transform(x_test)\n",
        "\n",
        "# Creating Gaussian basis functions (Hyperparameters)\n",
        "start_time = time.time()\n",
        "degree = 50\n",
        "centers = np.linspace(-10, 10, degree).reshape(-1, 1)\n",
        "sigma = 2.0\n",
        "\n",
        "# Compute Gaussian basis functions\n",
        "x_train_g = np.exp(-((x_train_pca - centers.T) ** 2) / (2 * sigma**2))\n",
        "x_test_g = np.exp(-((x_test_pca - centers.T) ** 2) / (2 * sigma**2))\n",
        "\n",
        "# Training Linear Regression model\n",
        "lin_reg_3 = LinearRegression()\n",
        "lin_reg_3.fit(x_train_g, y_train)\n",
        "end_time = time.time()\n",
        "\n",
        "# Calculating training time\n",
        "training_time_model_3 = end_time-start_time\n",
        "\n",
        "# Predicting the value on test and rounding it off to closest integer and cliping it from 0 to 9\n",
        "y_pred = lin_reg_3.predict(x_test_g)\n",
        "y_pred = np.round(y_pred).astype(int)\n",
        "y_pred = np.clip(y_pred, 0, 9)"
      ],
      "metadata": {
        "id": "dG9uau9tR4BX"
      },
      "execution_count": 64,
      "outputs": []
    },
    {
      "cell_type": "code",
      "source": [
        "# Finding accuracy, precision, recall and f1 score for the model\n",
        "accuracy_percentage_model_3=(accuracy_score(y_test,y_pred))*100\n",
        "precision_percentage_model_3=(precision_score(y_test, y_pred, average=\"weighted\"))*100\n",
        "recall_percentage_model_3=(recall_score(y_test,y_pred, average=\"weighted\"))*100\n",
        "f1_percentage_model_3=(f1_score(y_test,y_pred, average=\"weighted\"))*100\n",
        "\n",
        "print(\"Guassian Feature Regression Stats:\")\n",
        "print(f\"Accuracy: {accuracy_percentage_model_3:.2f}%\")\n",
        "print(f\"Precision: {precision_percentage_model_3:.2f}%\")\n",
        "print(f\"Recall: {recall_percentage_model_3:.2f}%\")\n",
        "print(f\"F1 Score: {f1_percentage_model_3:.2f}%\")\n",
        "print(f\"Training time: {training_time_model_3:.2f}sec\")"
      ],
      "metadata": {
        "colab": {
          "base_uri": "https://localhost:8080/"
        },
        "id": "52MDyjdSYgIK",
        "outputId": "e02f3bb7-2ff7-43ee-9f2f-8cf18f0b4f92"
      },
      "execution_count": 65,
      "outputs": [
        {
          "output_type": "stream",
          "name": "stdout",
          "text": [
            "Guassian Feature Regression Stats:\n",
            "Accuracy: 15.66%\n",
            "Precision: 20.19%\n",
            "Recall: 15.66%\n",
            "F1 Score: 14.26%\n",
            "Training time: 0.12sec\n"
          ]
        },
        {
          "output_type": "stream",
          "name": "stderr",
          "text": [
            "/usr/local/lib/python3.11/dist-packages/sklearn/metrics/_classification.py:1565: UndefinedMetricWarning: Precision is ill-defined and being set to 0.0 in labels with no predicted samples. Use `zero_division` parameter to control this behavior.\n",
            "  _warn_prf(average, modifier, f\"{metric.capitalize()} is\", len(result))\n"
          ]
        }
      ]
    },
    {
      "cell_type": "markdown",
      "source": [
        "## Fourier Features Regreesion"
      ],
      "metadata": {
        "id": "V-zYcQhyac8_"
      }
    },
    {
      "cell_type": "code",
      "source": [
        "from sklearn.decomposition import PCA\n",
        "from sklearn.linear_model import LinearRegression\n",
        "from sklearn.metrics import accuracy_score, precision_score, recall_score, f1_score\n",
        "import numpy as np\n",
        "import time\n",
        "\n",
        "# Apply PCA to reduce to 1 dimensions\n",
        "pca = PCA(n_components=1)\n",
        "x_train_pca = pca.fit_transform(x_train)\n",
        "x_test_pca = pca.transform(x_test)\n",
        "\n",
        "# Creating Fourier Function\n",
        "start_time = time.time()\n",
        "num_terms = 50\n",
        "\n",
        "# Compute Fourier basis features\n",
        "x_train_fourier = np.hstack([np.sin((i+1) * x_train_pca) for i in range(num_terms)] +\n",
        "                            [np.cos((i+1) * x_train_pca) for i in range(num_terms)])\n",
        "\n",
        "x_test_fourier = np.hstack([np.sin((i+1) * x_test_pca) for i in range(num_terms)] +\n",
        "                           [np.cos((i+1) * x_test_pca) for i in range(num_terms)])\n",
        "\n",
        "# Training Linear Regression model\n",
        "lin_reg_4 = LinearRegression()\n",
        "lin_reg_4.fit(x_train_fourier, y_train)\n",
        "end_time = time.time()\n",
        "\n",
        "# Calculating training time\n",
        "training_time_model_4 = end_time-start_time\n",
        "\n",
        "# Predicting the value on test and rounding it off to closest integer and cliping it from 0 to 9\n",
        "y_pred = lin_reg_4.predict(x_test_fourier)\n",
        "y_pred = np.round(y_pred).astype(int)\n",
        "y_pred = np.clip(y_pred, 0, 9)"
      ],
      "metadata": {
        "id": "yoEG-ZH9ZGlS"
      },
      "execution_count": 66,
      "outputs": []
    },
    {
      "cell_type": "code",
      "source": [
        "# Finding accuracy, precision, recall and f1 score for the model\n",
        "accuracy_percentage_model_4=(accuracy_score(y_test,y_pred))*100\n",
        "precision_percentage_model_4=(precision_score(y_test, y_pred, average=\"weighted\"))*100\n",
        "recall_percentage_model_4=(recall_score(y_test,y_pred, average=\"weighted\"))*100\n",
        "f1_percentage_model_4=(f1_score(y_test,y_pred, average=\"weighted\"))*100\n",
        "\n",
        "print(\"Fourier Feature Regression Stats:\")\n",
        "print(f\"Accuracy: {accuracy_percentage_model_4:.2f}%\")\n",
        "print(f\"Precision: {precision_percentage_model_4:.2f}%\")\n",
        "print(f\"Recall: {recall_percentage_model_4:.2f}%\")\n",
        "print(f\"F1 Score: {f1_percentage_model_4:.2f}%\")\n",
        "print(f\"Training time: {training_time_model_4:.2f}sec\")"
      ],
      "metadata": {
        "colab": {
          "base_uri": "https://localhost:8080/"
        },
        "id": "Z3KSlgxGeTUX",
        "outputId": "4467092c-73d4-4dc9-bcc6-9ba707933256"
      },
      "execution_count": 67,
      "outputs": [
        {
          "output_type": "stream",
          "name": "stdout",
          "text": [
            "Fourier Feature Regression Stats:\n",
            "Accuracy: 8.34%\n",
            "Precision: 3.42%\n",
            "Recall: 8.34%\n",
            "F1 Score: 3.82%\n",
            "Training time: 1.54sec\n"
          ]
        },
        {
          "output_type": "stream",
          "name": "stderr",
          "text": [
            "/usr/local/lib/python3.11/dist-packages/sklearn/metrics/_classification.py:1565: UndefinedMetricWarning: Precision is ill-defined and being set to 0.0 in labels with no predicted samples. Use `zero_division` parameter to control this behavior.\n",
            "  _warn_prf(average, modifier, f\"{metric.capitalize()} is\", len(result))\n"
          ]
        }
      ]
    },
    {
      "cell_type": "markdown",
      "source": [
        "### Conclusion\n",
        "Any type of linear regression is not good for digit recognition as:\n",
        "1. Linear regression assumes that the relationship between inputs pixel values and outputs labels are linearly separable.\n",
        "2. Images are highly complex and non-linear.\n",
        "3. We are using PCA for dimensionality reduction making the data too similar which reduces the accuracy.\n",
        "4. We are rounding off and clipping the values in 0 - 9 making it discrete problem.\n",
        "\n",
        "Thus, linear regression is good for countinous output but bad for discrete output like in digit recognition."
      ],
      "metadata": {
        "id": "gX_MxJYjfM2B"
      }
    },
    {
      "cell_type": "markdown",
      "source": [
        "## Logistic Regression"
      ],
      "metadata": {
        "id": "BHXtJWtZLVn7"
      }
    },
    {
      "cell_type": "code",
      "source": [
        "from sklearn.linear_model import LogisticRegression\n",
        "from sklearn.metrics import accuracy_score, precision_score, recall_score, f1_score\n",
        "import numpy as np\n",
        "import time\n",
        "\n",
        "# Training Logistic Regression model\n",
        "start_time = time.time()\n",
        "log_reg = LogisticRegression(max_iter=2000)\n",
        "log_reg.fit(x_train, y_train)\n",
        "end_time = time.time()\n",
        "training_time_log_reg = end_time-start_time\n",
        "\n",
        "# Make predictions\n",
        "y_pred = log_reg.predict(x_test)"
      ],
      "metadata": {
        "id": "b1M0WEn8LaE9"
      },
      "execution_count": 68,
      "outputs": []
    },
    {
      "cell_type": "code",
      "source": [
        "# Finding accuracy, precision, recall and f1 score for the model\n",
        "accuracy_percentage_log_reg=(accuracy_score(y_test,y_pred))*100\n",
        "precision_percentage_log_reg=(precision_score(y_test, y_pred, average=\"weighted\"))*100\n",
        "recall_percentage_log_reg=(recall_score(y_test,y_pred, average=\"weighted\"))*100\n",
        "f1_percentage_log_reg=(f1_score(y_test,y_pred, average=\"weighted\"))*100\n",
        "\n",
        "print(\"Logistic Regression Stats:\")\n",
        "print(f\"Accuracy: {accuracy_percentage_log_reg:.2f}%\")\n",
        "print(f\"Precision: {precision_percentage_log_reg:.2f}%\")\n",
        "print(f\"Recall: {recall_percentage_log_reg:.2f}%\")\n",
        "print(f\"F1 Score: {f1_percentage_log_reg:.2f}%\")\n",
        "print(f\"Training time: {training_time_log_reg:.2f}sec\")"
      ],
      "metadata": {
        "colab": {
          "base_uri": "https://localhost:8080/"
        },
        "id": "4UMs8i-fNOQM",
        "outputId": "f9f31d12-9e78-4f17-f13e-c1ef1a712fe2"
      },
      "execution_count": 69,
      "outputs": [
        {
          "output_type": "stream",
          "name": "stdout",
          "text": [
            "Logistic Regression Stats:\n",
            "Accuracy: 90.82%\n",
            "Precision: 90.81%\n",
            "Recall: 90.82%\n",
            "F1 Score: 90.80%\n",
            "Training time: 16.72sec\n"
          ]
        }
      ]
    },
    {
      "cell_type": "markdown",
      "source": [
        " Implementing the logistic regresion without using direct function. We are finding logits and probability through with we are finding loss and updating W and b according to this."
      ],
      "metadata": {
        "id": "gnNXQw8Xs8vc"
      }
    },
    {
      "cell_type": "code",
      "source": [
        "import numpy as np\n",
        "from sklearn.preprocessing import OneHotEncoder\n",
        "from sklearn.metrics import accuracy_score, precision_score, recall_score, f1_score\n",
        "import time\n",
        "\n",
        "# One-hot encode labels\n",
        "encoder = OneHotEncoder(sparse_output=False)\n",
        "y_train_onehot = encoder.fit_transform(y_train.reshape(-1, 1))\n",
        "\n",
        "# Initialize weights and bias\n",
        "num_features = x_train.shape[1]\n",
        "\n",
        "# Intialize seed for reprociblity\n",
        "np.random.seed(42)\n",
        "\n",
        "# Initialize the weights and biasness\n",
        "W = np.random.randn(num_features, 10) * 0.01\n",
        "b = np.zeros((1, 10))\n",
        "\n",
        "# Hyperparameters (can change and see difference)\n",
        "learning_rate = 0.1\n",
        "epochs = 500\n",
        "\n",
        "# Training loop\n",
        "start_time = time.time()\n",
        "for epoch in range(epochs):\n",
        "    # Compute logits: Z = XW + b\n",
        "    logits = np.dot(x_train, W) + b\n",
        "\n",
        "    exp_logits = np.exp(logits - np.max(logits, axis=1, keepdims=True))\n",
        "    probs = exp_logits / np.sum(exp_logits, axis=1, keepdims=True)\n",
        "\n",
        "    # Compute loss\n",
        "    loss = -np.mean(np.sum(y_train_onehot * np.log(probs + 1e-8), axis=1))\n",
        "\n",
        "    grad_logits = probs - y_train_onehot\n",
        "    dW = np.dot(x_train.T, grad_logits) / x_train.shape[0]\n",
        "    db = np.mean(grad_logits, axis=0, keepdims=True)\n",
        "\n",
        "    # Updating weights and biasness\n",
        "    W -= learning_rate * dW\n",
        "    b -= learning_rate * db\n",
        "\n",
        "end_time = time.time()\n",
        "training_time_log_reg_2 = end_time - start_time\n",
        "\n",
        "# Predicting the value\n",
        "logits_test = np.dot(x_test, W) + b\n",
        "y_pred = np.argmax(logits_test, axis=1)"
      ],
      "metadata": {
        "id": "fnHIgU4nSIDJ"
      },
      "execution_count": 70,
      "outputs": []
    },
    {
      "cell_type": "code",
      "source": [
        "# Finding accuracy, precision, recall and f1 score for the model\n",
        "accuracy_percentage_log_reg_2=(accuracy_score(y_test,y_pred))*100\n",
        "precision_percentage_log_reg_2=(precision_score(y_test, y_pred, average=\"weighted\"))*100\n",
        "recall_percentage_log_reg_2=(recall_score(y_test,y_pred, average=\"weighted\"))*100\n",
        "f1_percentage_log_reg_2=(f1_score(y_test,y_pred, average=\"weighted\"))*100\n",
        "\n",
        "print(\"Logistic Regression Stats:\")\n",
        "print(f\"Accuracy: {accuracy_percentage_log_reg_2:.2f}%\")\n",
        "print(f\"Precision: {precision_percentage_log_reg_2:.2f}%\")\n",
        "print(f\"Recall: {recall_percentage_log_reg_2:.2f}%\")\n",
        "print(f\"F1 Score: {f1_percentage_log_reg_2:.2f}%\")\n",
        "print(f\"Training time: {training_time_log_reg_2:.2f}sec\")"
      ],
      "metadata": {
        "colab": {
          "base_uri": "https://localhost:8080/"
        },
        "id": "47URUTi1uJ8R",
        "outputId": "8d796875-926d-4bac-eb20-2e46263b8964"
      },
      "execution_count": 71,
      "outputs": [
        {
          "output_type": "stream",
          "name": "stdout",
          "text": [
            "Logistic Regression Stats:\n",
            "Accuracy: 90.20%\n",
            "Precision: 90.17%\n",
            "Recall: 90.20%\n",
            "F1 Score: 90.16%\n",
            "Training time: 34.21sec\n"
          ]
        }
      ]
    },
    {
      "cell_type": "markdown",
      "source": [
        "## Random Forest"
      ],
      "metadata": {
        "id": "nMYAm0WzeTI5"
      }
    },
    {
      "cell_type": "code",
      "source": [
        "from sklearn.ensemble import RandomForestClassifier\n",
        "from sklearn.metrics import accuracy_score, precision_score, recall_score, f1_score\n",
        "import time\n",
        "\n",
        "# Training a Random Forest classifier\n",
        "start_time = time.time()\n",
        "rf_model = RandomForestClassifier(n_estimators=200, random_state=42, criterion='entropy', bootstrap=True)\n",
        "rf_model.fit(x_train, y_train)\n",
        "end_time = time.time()\n",
        "training_time_random_forest = end_time - start_time\n",
        "\n",
        "# Make predictions\n",
        "y_pred = rf_model.predict(x_test)"
      ],
      "metadata": {
        "id": "CUb-VETGoiYa"
      },
      "execution_count": 72,
      "outputs": []
    },
    {
      "cell_type": "code",
      "source": [
        "# Finding accuracy, precision, recall and f1 score for the model\n",
        "accuracy_percentage_random_forest=(accuracy_score(y_test,y_pred))*100\n",
        "precision_percentage_random_forest=(precision_score(y_test, y_pred, average=\"weighted\"))*100\n",
        "recall_percentage_random_forest=(recall_score(y_test,y_pred, average=\"weighted\"))*100\n",
        "f1_percentage_random_forest=(f1_score(y_test,y_pred, average=\"weighted\"))*100\n",
        "\n",
        "print(\"Random Forest Stats:\")\n",
        "print(f\"Accuracy: {accuracy_percentage_random_forest:.2f}%\")\n",
        "print(f\"Precision: {precision_percentage_random_forest:.2f}%\")\n",
        "print(f\"Recall: {recall_percentage_random_forest:.2f}%\")\n",
        "print(f\"F1 Score: {f1_percentage_random_forest:.2f}%\")\n",
        "print(f\"Training time: {training_time_random_forest:.2f}sec\")"
      ],
      "metadata": {
        "colab": {
          "base_uri": "https://localhost:8080/"
        },
        "id": "dg-Lg-klebIU",
        "outputId": "ceeff37e-2fae-4d32-fc21-42f50066231f"
      },
      "execution_count": 73,
      "outputs": [
        {
          "output_type": "stream",
          "name": "stdout",
          "text": [
            "Random Forest Stats:\n",
            "Accuracy: 95.10%\n",
            "Precision: 95.10%\n",
            "Recall: 95.10%\n",
            "F1 Score: 95.09%\n",
            "Training time: 20.23sec\n"
          ]
        }
      ]
    },
    {
      "cell_type": "markdown",
      "source": [
        "## K MEANS (KNN)"
      ],
      "metadata": {
        "id": "aXTeE90GurrM"
      }
    },
    {
      "cell_type": "code",
      "source": [
        "from sklearn.neighbors import KNeighborsClassifier\n",
        "from sklearn.metrics import accuracy_score, precision_score, recall_score, f1_score\n",
        "import time\n",
        "\n",
        "# Training KNN classifier\n",
        "start_time = time.time()\n",
        "knn_model = KNeighborsClassifier(n_neighbors=7, n_jobs=-1)\n",
        "knn_model.fit(x_train, y_train)\n",
        "end_time = time.time()\n",
        "training_time_knn = end_time - start_time\n",
        "\n",
        "# Make predictions\n",
        "y_pred = knn_model.predict(x_test)"
      ],
      "metadata": {
        "id": "DUOwi2DkTTQD"
      },
      "execution_count": 74,
      "outputs": []
    },
    {
      "cell_type": "code",
      "source": [
        "# Finding accuracy, precision, recall and f1 score for the model\n",
        "accuracy_percentage_knn=(accuracy_score(y_test,y_pred))*100\n",
        "precision_percentage_knn=(precision_score(y_test, y_pred, average=\"weighted\"))*100\n",
        "recall_percentage_knn=(recall_score(y_test,y_pred, average=\"weighted\"))*100\n",
        "f1_percentage_knn=(f1_score(y_test,y_pred, average=\"weighted\"))*100\n",
        "\n",
        "print(\"K Means Stats:\")\n",
        "print(f\"Accuracy: {accuracy_percentage_knn:.2f}%\")\n",
        "print(f\"Precision: {precision_percentage_knn:.2f}%\")\n",
        "print(f\"Recall: {recall_percentage_knn:.2f}%\")\n",
        "print(f\"F1 Score: {f1_percentage_knn:.2f}%\")\n",
        "print(f\"Training time: {training_time_knn:.2f}sec\")"
      ],
      "metadata": {
        "colab": {
          "base_uri": "https://localhost:8080/"
        },
        "id": "7UblWKXkwqIo",
        "outputId": "e6bcfedd-5bc1-43ce-f18d-3a736b6a4c12"
      },
      "execution_count": 75,
      "outputs": [
        {
          "output_type": "stream",
          "name": "stdout",
          "text": [
            "K Means Stats:\n",
            "Accuracy: 94.57%\n",
            "Precision: 94.67%\n",
            "Recall: 94.57%\n",
            "F1 Score: 94.55%\n",
            "Training time: 0.01sec\n"
          ]
        }
      ]
    },
    {
      "cell_type": "markdown",
      "source": [
        "## Neural Networks(NN)"
      ],
      "metadata": {
        "id": "hwBaybd-N3YD"
      }
    },
    {
      "cell_type": "code",
      "source": [
        "import torch\n",
        "import torch.nn as nn\n",
        "import torch.optim as optim\n",
        "import torch.nn.functional as F\n",
        "from torch.utils.data import DataLoader, TensorDataset\n",
        "from sklearn.metrics import accuracy_score, precision_score, recall_score, f1_score\n",
        "import time\n",
        "import numpy as np\n",
        "\n",
        "# Converting NumPy arrays to PyTorch tensors\n",
        "x_train_tensor = torch.tensor(x_train, dtype=torch.float32)\n",
        "y_train_tensor = torch.tensor(y_train, dtype=torch.long)\n",
        "x_test_tensor = torch.tensor(x_test, dtype=torch.float32)\n",
        "y_test_tensor = torch.tensor(y_test, dtype=torch.long)\n",
        "\n",
        "# Creating DataLoader for batch processing\n",
        "batch_size = 128\n",
        "train_dataset = TensorDataset(x_train_tensor, y_train_tensor)\n",
        "test_dataset = TensorDataset(x_test_tensor, y_test_tensor)\n",
        "train_loader = DataLoader(train_dataset, batch_size=batch_size, shuffle=True)\n",
        "test_loader = DataLoader(test_dataset, batch_size=batch_size, shuffle=False)\n",
        "\n",
        "# Defining Neural Network Model\n",
        "class NeuralNet(nn.Module):\n",
        "    def __init__(self):\n",
        "        super(NeuralNet, self).__init__()\n",
        "        self.fc1 = nn.Linear(784, 128)  # Hidden Layer 1\n",
        "        self.fc2 = nn.Linear(128, 64)   # Hidden Layer 2\n",
        "        self.fc3 = nn.Linear(64,32)     # Hidden Layer 3\n",
        "        self.fc4 = nn.Linear(32,16)     # Hidden Layer 4\n",
        "        self.fc5 = nn.Linear(16, 10)    # Output Layer\n",
        "\n",
        "    def forward(self, x):\n",
        "        # Activation function (ReLU)\n",
        "        x = F.relu(self.fc1(x))\n",
        "        x = F.relu(self.fc2(x))\n",
        "        x = F.relu(self.fc3(x))\n",
        "        x = F.relu(self.fc4(x))\n",
        "        x = self.fc5(x)\n",
        "        return x\n",
        "\n",
        "# Initializing model, loss function, and optimizer\n",
        "start_time = time.time()\n",
        "device = torch.device(\"cuda\" if torch.cuda.is_available() else \"cpu\")\n",
        "model = NeuralNet().to(device)\n",
        "criterion = nn.CrossEntropyLoss()\n",
        "optimizer = optim.Adam(model.parameters(), lr=0.001)\n",
        "\n",
        "# Training the model\n",
        "epochs = 10\n",
        "for epoch in range(epochs):\n",
        "    model.train()\n",
        "    for x_batch, y_batch in train_loader:\n",
        "        x_batch, y_batch = x_batch.to(device), y_batch.to(device)\n",
        "\n",
        "        optimizer.zero_grad()\n",
        "        outputs = model(x_batch)\n",
        "        loss = criterion(outputs, y_batch)\n",
        "        loss.backward()\n",
        "        optimizer.step()\n",
        "\n",
        "end_time = time.time()\n",
        "training_time_nn = end_time - start_time\n",
        "\n",
        "# Evaluate the model\n",
        "model.eval()\n",
        "y_pred = []\n",
        "with torch.no_grad():\n",
        "    for x_batch, y_batch in test_loader:\n",
        "        x_batch, y_batch = x_batch.to(device), y_batch.to(device)\n",
        "        outputs = model(x_batch)\n",
        "        _, predicted = torch.max(outputs, 1)\n",
        "        y_pred.extend(predicted.cpu().numpy())\n",
        "y_pred = np.array(y_pred)"
      ],
      "metadata": {
        "id": "BwLRrl4sOzyJ"
      },
      "execution_count": 76,
      "outputs": []
    },
    {
      "cell_type": "code",
      "source": [
        "# Finding accuracy, precision, recall and f1 score for the model\n",
        "accuracy_percentage_nn=(accuracy_score(y_test,y_pred))*100\n",
        "precision_percentage_nn=(precision_score(y_test, y_pred, average=\"weighted\"))*100\n",
        "recall_percentage_nn=(recall_score(y_test,y_pred, average=\"weighted\"))*100\n",
        "f1_percentage_nn=(f1_score(y_test,y_pred, average=\"weighted\"))*100\n",
        "\n",
        "print(\"Neural Network Stats:\")\n",
        "print(f\"Accuracy: {accuracy_percentage_nn:.2f}%\")\n",
        "print(f\"Precision: {precision_percentage_nn:.2f}%\")\n",
        "print(f\"Recall: {recall_percentage_nn:.2f}%\")\n",
        "print(f\"F1 Score: {f1_percentage_nn:.2f}%\")\n",
        "print(f\"Training time: {training_time_nn:.2f}sec\")"
      ],
      "metadata": {
        "colab": {
          "base_uri": "https://localhost:8080/"
        },
        "id": "IRDgzOQ25fD0",
        "outputId": "aa26fd25-6c2c-4d1b-96fd-e9642c40a953"
      },
      "execution_count": 77,
      "outputs": [
        {
          "output_type": "stream",
          "name": "stdout",
          "text": [
            "Neural Network Stats:\n",
            "Accuracy: 92.77%\n",
            "Precision: 92.92%\n",
            "Recall: 92.77%\n",
            "F1 Score: 92.75%\n",
            "Training time: 4.11sec\n"
          ]
        }
      ]
    },
    {
      "cell_type": "markdown",
      "source": [
        "## Convolutional Neural Network(CNN)"
      ],
      "metadata": {
        "id": "qrNwt4xfqiAK"
      }
    },
    {
      "cell_type": "code",
      "source": [
        "import torch\n",
        "import torch.nn as nn\n",
        "import torch.optim as optim\n",
        "import torch.nn.functional as F\n",
        "from torch.utils.data import DataLoader, TensorDataset\n",
        "from sklearn.metrics import accuracy_score, precision_score, recall_score, f1_score\n",
        "import time\n",
        "import numpy as np\n",
        "\n",
        "# Converting NumPy arrays to PyTorch tensors\n",
        "x_train_tensor = torch.tensor(x_train.reshape(-1, 1, 28, 28), dtype=torch.float32)\n",
        "y_train_tensor = torch.tensor(y_train, dtype=torch.long)\n",
        "x_test_tensor = torch.tensor(x_test.reshape(-1, 1, 28, 28), dtype=torch.float32)\n",
        "y_test_tensor = torch.tensor(y_test, dtype=torch.long)\n",
        "\n",
        "# Creating DataLoader for batch processing\n",
        "batch_size = 128\n",
        "train_dataset = TensorDataset(x_train_tensor, y_train_tensor)\n",
        "test_dataset = TensorDataset(x_test_tensor, y_test_tensor)\n",
        "train_loader = DataLoader(train_dataset, batch_size=batch_size, shuffle=True)\n",
        "test_loader = DataLoader(test_dataset, batch_size=batch_size, shuffle=False)\n",
        "\n",
        "# Defining LeNet-5 Model\n",
        "class LeNet5(nn.Module):\n",
        "    def __init__(self):\n",
        "        super(LeNet5, self).__init__()\n",
        "        self.conv1 = nn.Conv2d(1, 6, 5)  # (1, 28, 28) -> (6, 24, 24)\n",
        "        self.conv2 = nn.Conv2d(6, 16, 5) # (6, 12, 12) -> (16, 8, 8)\n",
        "        self.fc1 = nn.Linear(16 * 4 * 4, 120)\n",
        "        self.fc2 = nn.Linear(120, 84)\n",
        "        self.fc3 = nn.Linear(84, 10)\n",
        "\n",
        "    def forward(self, x):\n",
        "        x = F.relu(self.conv1(x))\n",
        "        x = F.max_pool2d(x, 2)\n",
        "        x = F.relu(self.conv2(x))\n",
        "        x = F.max_pool2d(x, 2)\n",
        "        x = x.view(-1, 16 * 4 * 4)\n",
        "        x = F.relu(self.fc1(x))\n",
        "        x = F.relu(self.fc2(x))\n",
        "        x = self.fc3(x)\n",
        "        return x\n",
        "\n",
        "# Initializing model, loss function, and optimizer\n",
        "start_time = time.time()\n",
        "device = torch.device(\"cuda\" if torch.cuda.is_available() else \"cpu\")\n",
        "model = LeNet5().to(device)\n",
        "criterion = nn.CrossEntropyLoss()\n",
        "optimizer = optim.Adam(model.parameters(), lr=0.001)\n",
        "\n",
        "# Training the LeNet-5 model\n",
        "epochs = 10\n",
        "for epoch in range(epochs):\n",
        "    model.train()\n",
        "    for x_batch, y_batch in train_loader:\n",
        "        x_batch, y_batch = x_batch.to(device), y_batch.to(device)\n",
        "\n",
        "        optimizer.zero_grad()\n",
        "        outputs = model(x_batch)\n",
        "        loss = criterion(outputs, y_batch)\n",
        "        loss.backward()\n",
        "        optimizer.step()\n",
        "\n",
        "end_time =time.time()\n",
        "training_time_cnn = end_time - start_time\n",
        "\n",
        "# Evaluate the model\n",
        "model.eval()\n",
        "y_pred = []\n",
        "with torch.no_grad():\n",
        "    for x_batch, y_batch in test_loader:\n",
        "        x_batch, y_batch = x_batch.to(device), y_batch.to(device)\n",
        "        outputs = model(x_batch)\n",
        "        _, predicted = torch.max(outputs, 1)\n",
        "        y_pred.extend(predicted.cpu().numpy())\n",
        "y_pred = np.array(y_pred)"
      ],
      "metadata": {
        "id": "JIzu9V1g8qxA"
      },
      "execution_count": 78,
      "outputs": []
    },
    {
      "cell_type": "code",
      "source": [
        "# Finding accuracy, precision, recall and f1 score for the model\n",
        "accuracy_percentage_cnn=(accuracy_score(y_test,y_pred))*100\n",
        "precision_percentage_cnn=(precision_score(y_test, y_pred, average=\"weighted\"))*100\n",
        "recall_percentage_cnn=(recall_score(y_test,y_pred, average=\"weighted\"))*100\n",
        "f1_percentage_cnn=(f1_score(y_test,y_pred, average=\"weighted\"))*100\n",
        "\n",
        "print(\"Convolutional Neural Network Stats:\")\n",
        "print(f\"Accuracy: {accuracy_percentage_cnn:.2f}%\")\n",
        "print(f\"Precision: {precision_percentage_cnn:.2f}%\")\n",
        "print(f\"Recall: {recall_percentage_cnn:.2f}%\")\n",
        "print(f\"F1 Score: {f1_percentage_cnn:.2f}%\")\n",
        "print(f\"Training time: {training_time_cnn:.2f}sec\")"
      ],
      "metadata": {
        "colab": {
          "base_uri": "https://localhost:8080/"
        },
        "id": "Bm0mMQdyAMNJ",
        "outputId": "c4e7b993-c7f0-4e33-c914-f22b62840224"
      },
      "execution_count": 79,
      "outputs": [
        {
          "output_type": "stream",
          "name": "stdout",
          "text": [
            "Convolutional Neural Network Stats:\n",
            "Accuracy: 97.16%\n",
            "Precision: 97.17%\n",
            "Recall: 97.16%\n",
            "F1 Score: 97.15%\n",
            "Training time: 18.26sec\n"
          ]
        }
      ]
    },
    {
      "cell_type": "markdown",
      "source": [
        "## Support Vector Machine(SVM)"
      ],
      "metadata": {
        "id": "BJkywtNOqkQi"
      }
    },
    {
      "cell_type": "code",
      "source": [
        "from sklearn.svm import SVC\n",
        "from sklearn.metrics import accuracy_score, precision_score, recall_score, f1_score\n",
        "import time\n",
        "import numpy\n",
        "\n",
        "svm_model = SVC(kernel='rbf', C=10, gamma='scale')\n",
        "\n",
        "# Training the SVM model\n",
        "start_time = time.time()\n",
        "svm_model.fit(x_train, y_train)\n",
        "end_time = time.time()\n",
        "training_time_svm = end_time - start_time\n",
        "\n",
        "# Predict on test data\n",
        "y_pred = svm_model.predict(x_test)"
      ],
      "metadata": {
        "id": "KSJu31iYCGLC"
      },
      "execution_count": 80,
      "outputs": []
    },
    {
      "cell_type": "code",
      "source": [
        "# Finding accuracy, precision, recall and f1 score for the model\n",
        "accuracy_percentage_svm=(accuracy_score(y_test,y_pred))*100\n",
        "precision_percentage_svm=(precision_score(y_test, y_pred, average=\"weighted\"))*100\n",
        "recall_percentage_svm=(recall_score(y_test,y_pred, average=\"weighted\"))*100\n",
        "f1_percentage_svm=(f1_score(y_test,y_pred, average=\"weighted\"))*100\n",
        "\n",
        "print(\"Support Vector Machine Stats:\")\n",
        "print(f\"Accuracy: {accuracy_percentage_svm:.2f}%\")\n",
        "print(f\"Precision: {precision_percentage_svm:.2f}%\")\n",
        "print(f\"Recall: {recall_percentage_svm:.2f}%\")\n",
        "print(f\"F1 Score: {f1_percentage_svm:.2f}%\")\n",
        "print(f\"Training time: {training_time_svm:.2f}sec\")"
      ],
      "metadata": {
        "colab": {
          "base_uri": "https://localhost:8080/"
        },
        "id": "z3bcHjgWEbOg",
        "outputId": "5ac36e67-fe16-484a-8cae-9ede7392ee9a"
      },
      "execution_count": 81,
      "outputs": [
        {
          "output_type": "stream",
          "name": "stdout",
          "text": [
            "Support Vector Machine Stats:\n",
            "Accuracy: 97.01%\n",
            "Precision: 97.01%\n",
            "Recall: 97.01%\n",
            "F1 Score: 97.01%\n",
            "Training time: 19.22sec\n"
          ]
        }
      ]
    },
    {
      "cell_type": "code",
      "source": [
        "# Plotting bar plot for representing the model accuracies\n",
        "import matplotlib.pyplot as plt\n",
        "import numpy as np\n",
        "\n",
        "models = ['Linear Regression', 'Polynomial Regression', 'Guassian Basis Regression', 'Fourier Features Regression',\n",
        "          'Logistic Regression', 'Random Forest', 'K Means', 'Neural Networks', 'Convolutional Neural Network', 'Support Vector Machine']\n",
        "\n",
        "accuracies = [accuracy_percentage_model_1, accuracy_percentage_model_2, accuracy_percentage_model_3, accuracy_percentage_model_4,\n",
        "              accuracy_percentage_log_reg, accuracy_percentage_random_forest, accuracy_percentage_knn, accuracy_percentage_nn,\n",
        "              accuracy_percentage_cnn, accuracy_percentage_svm]\n",
        "\n",
        "x_positions = np.arange(len(models))\n",
        "\n",
        "# Plot Accuracy\n",
        "plt.figure(figsize=(10, 5))\n",
        "plt.bar(x_positions, accuracies, color='blue', alpha=0.7)\n",
        "plt.xlabel('Models')\n",
        "plt.ylabel('Accuracy (%)')\n",
        "plt.title('Model Accuracies')\n",
        "plt.xticks(x_positions, models, rotation=45, ha='right')\n",
        "\n",
        "plt.show()"
      ],
      "metadata": {
        "colab": {
          "base_uri": "https://localhost:8080/",
          "height": 630
        },
        "id": "k0Q7YONlT0Mf",
        "outputId": "8b060156-b483-43df-8896-fa34921a1f79"
      },
      "execution_count": 82,
      "outputs": [
        {
          "output_type": "display_data",
          "data": {
            "text/plain": [
              "<Figure size 1000x500 with 1 Axes>"
            ],
            "image/png": "[encoded data removed]"
          },
          "metadata": {}
        }
      ]
    },
    {
      "cell_type": "code",
      "source": [
        "# Plotting bar plot for representing the model training time\n",
        "import matplotlib.pyplot as plt\n",
        "import numpy as np\n",
        "\n",
        "models = ['Linear Regression', 'Polynomial Regression', 'Guassian Basis Regression', 'Fourier Features Regression',\n",
        "          'Logistic Regression', 'Random Forest', 'K Means', 'Neural Networks', 'Convolutional Neural Network', 'Support Vector Machine']\n",
        "\n",
        "training_times = [training_time_model_1, training_time_model_2, training_time_model_3, training_time_model_4,\n",
        "                  training_time_log_reg, training_time_random_forest, training_time_knn, training_time_nn,\n",
        "                  training_time_cnn, training_time_svm]\n",
        "\n",
        "x_positions = np.arange(len(models))\n",
        "\n",
        "# Plot Training Time\n",
        "plt.figure(figsize=(10, 5))\n",
        "plt.bar(x_positions, training_times, color='red', alpha=0.7)\n",
        "plt.xlabel('Models')\n",
        "plt.ylabel('Training Time (seconds)')\n",
        "plt.title('Model Training Times')\n",
        "plt.xticks(x_positions, models, rotation=45, ha='right')\n",
        "\n",
        "plt.show()"
      ],
      "metadata": {
        "colab": {
          "base_uri": "https://localhost:8080/",
          "height": 630
        },
        "id": "PXIh3PjIZs8U",
        "outputId": "d2c91e3d-97da-4bc2-e097-00f7bf7d742b"
      },
      "execution_count": 83,
      "outputs": [
        {
          "output_type": "display_data",
          "data": {
            "text/plain": [
              "<Figure size 1000x500 with 1 Axes>"
            ],
            "image/png": "[encoded data removed]"
          },
          "metadata": {}
        }
      ]
    },
    {
      "cell_type": "markdown",
      "source": [
        "## Conclusion - Logistic Regression, Random Forest, K Means, Neural Networks, Convolutional Neural Network, Support Vector Machine all are giving more than 90% accuracies which supports that all of these models are good for digit recognision.\n",
        "\n",
        "1. On the basis of time required to train the model K Means is giving the best results on the least time to get trained\n",
        "2. On the basis of accuracy CNN and SVD are giving the best results with accuracies upto 97% which supports the model if time is not a factor.\n"
      ],
      "metadata": {
        "id": "E4n3cjcQqFSZ"
      }
    },
    {
      "cell_type": "markdown",
      "source": [
        "By this project I learnt how too use different models and how to train them, which is the best for using in the real world and with its integration with NLP we can make OCR's."
      ],
      "metadata": {
        "id": "2oD0zSr3s592"
      }
    },
    {
      "cell_type": "markdown",
      "source": [
        "#### References -\n",
        "1. https://github.com/nipunbatra/ml-teaching\n",
        "2. https://huggingface.co/datasets\n",
        "3. https://iopscience.iop.org/article/10.1088/1757-899X/1022/1/012108/pdf\n",
        "4. ChatGPT"
      ],
      "metadata": {
        "id": "bpPxpyndtpzm"
      }
    }
  ]
}