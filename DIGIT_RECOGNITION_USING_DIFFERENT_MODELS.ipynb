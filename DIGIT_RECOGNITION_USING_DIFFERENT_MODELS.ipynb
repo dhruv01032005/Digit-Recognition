{
  "nbformat": 4,
  "nbformat_minor": 0,
  "metadata": {
    "colab": {
      "provenance": []
    },
    "kernelspec": {
      "name": "python3",
      "display_name": "Python 3"
    },
    "language_info": {
      "name": "python"
    },
    "widgets": {
      "application/vnd.jupyter.widget-state+json": {
        "8065eea948f749b99118eb27e61d0c2e": {
          "model_module": "@jupyter-widgets/controls",
          "model_name": "HBoxModel",
          "model_module_version": "1.5.0",
          "state": {
            "_dom_classes": [],
            "_model_module": "@jupyter-widgets/controls",
            "_model_module_version": "1.5.0",
            "_model_name": "HBoxModel",
            "_view_count": null,
            "_view_module": "@jupyter-widgets/controls",
            "_view_module_version": "1.5.0",
            "_view_name": "HBoxView",
            "box_style": "",
            "children": [
              "IPY_MODEL_5af1b474a07445cf915d90201de0691d",
              "IPY_MODEL_1af0187aece34510be04eb90b2737a0b",
              "IPY_MODEL_ac79d10add404202ae70e6acf8b202eb"
            ],
            "layout": "IPY_MODEL_0f621722987f49db9c130d0fff50f3a1"
          }
        },
        "5af1b474a07445cf915d90201de0691d": {
          "model_module": "@jupyter-widgets/controls",
          "model_name": "HTMLModel",
          "model_module_version": "1.5.0",
          "state": {
            "_dom_classes": [],
            "_model_module": "@jupyter-widgets/controls",
            "_model_module_version": "1.5.0",
            "_model_name": "HTMLModel",
            "_view_count": null,
            "_view_module": "@jupyter-widgets/controls",
            "_view_module_version": "1.5.0",
            "_view_name": "HTMLView",
            "description": "",
            "description_tooltip": null,
            "layout": "IPY_MODEL_2b2005e1482b4a8d8c0ac3608bcbb281",
            "placeholder": "​",
            "style": "IPY_MODEL_75a157a87d6346c38b6ceffff722a040",
            "value": "README.md: 100%"
          }
        },
        "1af0187aece34510be04eb90b2737a0b": {
          "model_module": "@jupyter-widgets/controls",
          "model_name": "FloatProgressModel",
          "model_module_version": "1.5.0",
          "state": {
            "_dom_classes": [],
            "_model_module": "@jupyter-widgets/controls",
            "_model_module_version": "1.5.0",
            "_model_name": "FloatProgressModel",
            "_view_count": null,
            "_view_module": "@jupyter-widgets/controls",
            "_view_module_version": "1.5.0",
            "_view_name": "ProgressView",
            "bar_style": "success",
            "description": "",
            "description_tooltip": null,
            "layout": "IPY_MODEL_c53840950c804963950479939ab7b401",
            "max": 6971,
            "min": 0,
            "orientation": "horizontal",
            "style": "IPY_MODEL_324bc28dea0543aa9208bb1bc09c782c",
            "value": 6971
          }
        },
        "ac79d10add404202ae70e6acf8b202eb": {
          "model_module": "@jupyter-widgets/controls",
          "model_name": "HTMLModel",
          "model_module_version": "1.5.0",
          "state": {
            "_dom_classes": [],
            "_model_module": "@jupyter-widgets/controls",
            "_model_module_version": "1.5.0",
            "_model_name": "HTMLModel",
            "_view_count": null,
            "_view_module": "@jupyter-widgets/controls",
            "_view_module_version": "1.5.0",
            "_view_name": "HTMLView",
            "description": "",
            "description_tooltip": null,
            "layout": "IPY_MODEL_f8fbfe22f4c14832a44330458eb2082c",
            "placeholder": "​",
            "style": "IPY_MODEL_d04918b541a0447ea0dda413402d6ad6",
            "value": " 6.97k/6.97k [00:00&lt;00:00, 324kB/s]"
          }
        },
        "0f621722987f49db9c130d0fff50f3a1": {
          "model_module": "@jupyter-widgets/base",
          "model_name": "LayoutModel",
          "model_module_version": "1.2.0",
          "state": {
            "_model_module": "@jupyter-widgets/base",
            "_model_module_version": "1.2.0",
            "_model_name": "LayoutModel",
            "_view_count": null,
            "_view_module": "@jupyter-widgets/base",
            "_view_module_version": "1.2.0",
            "_view_name": "LayoutView",
            "align_content": null,
            "align_items": null,
            "align_self": null,
            "border": null,
            "bottom": null,
            "display": null,
            "flex": null,
            "flex_flow": null,
            "grid_area": null,
            "grid_auto_columns": null,
            "grid_auto_flow": null,
            "grid_auto_rows": null,
            "grid_column": null,
            "grid_gap": null,
            "grid_row": null,
            "grid_template_areas": null,
            "grid_template_columns": null,
            "grid_template_rows": null,
            "height": null,
            "justify_content": null,
            "justify_items": null,
            "left": null,
            "margin": null,
            "max_height": null,
            "max_width": null,
            "min_height": null,
            "min_width": null,
            "object_fit": null,
            "object_position": null,
            "order": null,
            "overflow": null,
            "overflow_x": null,
            "overflow_y": null,
            "padding": null,
            "right": null,
            "top": null,
            "visibility": null,
            "width": null
          }
        },
        "2b2005e1482b4a8d8c0ac3608bcbb281": {
          "model_module": "@jupyter-widgets/base",
          "model_name": "LayoutModel",
          "model_module_version": "1.2.0",
          "state": {
            "_model_module": "@jupyter-widgets/base",
            "_model_module_version": "1.2.0",
            "_model_name": "LayoutModel",
            "_view_count": null,
            "_view_module": "@jupyter-widgets/base",
            "_view_module_version": "1.2.0",
            "_view_name": "LayoutView",
            "align_content": null,
            "align_items": null,
            "align_self": null,
            "border": null,
            "bottom": null,
            "display": null,
            "flex": null,
            "flex_flow": null,
            "grid_area": null,
            "grid_auto_columns": null,
            "grid_auto_flow": null,
            "grid_auto_rows": null,
            "grid_column": null,
            "grid_gap": null,
            "grid_row": null,
            "grid_template_areas": null,
            "grid_template_columns": null,
            "grid_template_rows": null,
            "height": null,
            "justify_content": null,
            "justify_items": null,
            "left": null,
            "margin": null,
            "max_height": null,
            "max_width": null,
            "min_height": null,
            "min_width": null,
            "object_fit": null,
            "object_position": null,
            "order": null,
            "overflow": null,
            "overflow_x": null,
            "overflow_y": null,
            "padding": null,
            "right": null,
            "top": null,
            "visibility": null,
            "width": null
          }
        },
        "75a157a87d6346c38b6ceffff722a040": {
          "model_module": "@jupyter-widgets/controls",
          "model_name": "DescriptionStyleModel",
          "model_module_version": "1.5.0",
          "state": {
            "_model_module": "@jupyter-widgets/controls",
            "_model_module_version": "1.5.0",
            "_model_name": "DescriptionStyleModel",
            "_view_count": null,
            "_view_module": "@jupyter-widgets/base",
            "_view_module_version": "1.2.0",
            "_view_name": "StyleView",
            "description_width": ""
          }
        },
        "c53840950c804963950479939ab7b401": {
          "model_module": "@jupyter-widgets/base",
          "model_name": "LayoutModel",
          "model_module_version": "1.2.0",
          "state": {
            "_model_module": "@jupyter-widgets/base",
            "_model_module_version": "1.2.0",
            "_model_name": "LayoutModel",
            "_view_count": null,
            "_view_module": "@jupyter-widgets/base",
            "_view_module_version": "1.2.0",
            "_view_name": "LayoutView",
            "align_content": null,
            "align_items": null,
            "align_self": null,
            "border": null,
            "bottom": null,
            "display": null,
            "flex": null,
            "flex_flow": null,
            "grid_area": null,
            "grid_auto_columns": null,
            "grid_auto_flow": null,
            "grid_auto_rows": null,
            "grid_column": null,
            "grid_gap": null,
            "grid_row": null,
            "grid_template_areas": null,
            "grid_template_columns": null,
            "grid_template_rows": null,
            "height": null,
            "justify_content": null,
            "justify_items": null,
            "left": null,
            "margin": null,
            "max_height": null,
            "max_width": null,
            "min_height": null,
            "min_width": null,
            "object_fit": null,
            "object_position": null,
            "order": null,
            "overflow": null,
            "overflow_x": null,
            "overflow_y": null,
            "padding": null,
            "right": null,
            "top": null,
            "visibility": null,
            "width": null
          }
        },
        "324bc28dea0543aa9208bb1bc09c782c": {
          "model_module": "@jupyter-widgets/controls",
          "model_name": "ProgressStyleModel",
          "model_module_version": "1.5.0",
          "state": {
            "_model_module": "@jupyter-widgets/controls",
            "_model_module_version": "1.5.0",
            "_model_name": "ProgressStyleModel",
            "_view_count": null,
            "_view_module": "@jupyter-widgets/base",
            "_view_module_version": "1.2.0",
            "_view_name": "StyleView",
            "bar_color": null,
            "description_width": ""
          }
        },
        "f8fbfe22f4c14832a44330458eb2082c": {
          "model_module": "@jupyter-widgets/base",
          "model_name": "LayoutModel",
          "model_module_version": "1.2.0",
          "state": {
            "_model_module": "@jupyter-widgets/base",
            "_model_module_version": "1.2.0",
            "_model_name": "LayoutModel",
            "_view_count": null,
            "_view_module": "@jupyter-widgets/base",
            "_view_module_version": "1.2.0",
            "_view_name": "LayoutView",
            "align_content": null,
            "align_items": null,
            "align_self": null,
            "border": null,
            "bottom": null,
            "display": null,
            "flex": null,
            "flex_flow": null,
            "grid_area": null,
            "grid_auto_columns": null,
            "grid_auto_flow": null,
            "grid_auto_rows": null,
            "grid_column": null,
            "grid_gap": null,
            "grid_row": null,
            "grid_template_areas": null,
            "grid_template_columns": null,
            "grid_template_rows": null,
            "height": null,
            "justify_content": null,
            "justify_items": null,
            "left": null,
            "margin": null,
            "max_height": null,
            "max_width": null,
            "min_height": null,
            "min_width": null,
            "object_fit": null,
            "object_position": null,
            "order": null,
            "overflow": null,
            "overflow_x": null,
            "overflow_y": null,
            "padding": null,
            "right": null,
            "top": null,
            "visibility": null,
            "width": null
          }
        },
        "d04918b541a0447ea0dda413402d6ad6": {
          "model_module": "@jupyter-widgets/controls",
          "model_name": "DescriptionStyleModel",
          "model_module_version": "1.5.0",
          "state": {
            "_model_module": "@jupyter-widgets/controls",
            "_model_module_version": "1.5.0",
            "_model_name": "DescriptionStyleModel",
            "_view_count": null,
            "_view_module": "@jupyter-widgets/base",
            "_view_module_version": "1.2.0",
            "_view_name": "StyleView",
            "description_width": ""
          }
        },
        "e9de5e1f68b34ca888f2518f1d2f0fc2": {
          "model_module": "@jupyter-widgets/controls",
          "model_name": "HBoxModel",
          "model_module_version": "1.5.0",
          "state": {
            "_dom_classes": [],
            "_model_module": "@jupyter-widgets/controls",
            "_model_module_version": "1.5.0",
            "_model_name": "HBoxModel",
            "_view_count": null,
            "_view_module": "@jupyter-widgets/controls",
            "_view_module_version": "1.5.0",
            "_view_name": "HBoxView",
            "box_style": "",
            "children": [
              "IPY_MODEL_eb96729637734285870a04bebdaecb30",
              "IPY_MODEL_655f0a77de1c4856a4d398aceb6d97a4",
              "IPY_MODEL_9d41071d5c2f4e148d82b741c51b96d4"
            ],
            "layout": "IPY_MODEL_586ddadb4ec842b2b643033d59226b15"
          }
        },
        "eb96729637734285870a04bebdaecb30": {
          "model_module": "@jupyter-widgets/controls",
          "model_name": "HTMLModel",
          "model_module_version": "1.5.0",
          "state": {
            "_dom_classes": [],
            "_model_module": "@jupyter-widgets/controls",
            "_model_module_version": "1.5.0",
            "_model_name": "HTMLModel",
            "_view_count": null,
            "_view_module": "@jupyter-widgets/controls",
            "_view_module_version": "1.5.0",
            "_view_name": "HTMLView",
            "description": "",
            "description_tooltip": null,
            "layout": "IPY_MODEL_d5d10a15ca71442ca4ee692369caa4de",
            "placeholder": "​",
            "style": "IPY_MODEL_f014d774d3e54038955a101a063292cb",
            "value": "train-00000-of-00001.parquet: 100%"
          }
        },
        "655f0a77de1c4856a4d398aceb6d97a4": {
          "model_module": "@jupyter-widgets/controls",
          "model_name": "FloatProgressModel",
          "model_module_version": "1.5.0",
          "state": {
            "_dom_classes": [],
            "_model_module": "@jupyter-widgets/controls",
            "_model_module_version": "1.5.0",
            "_model_name": "FloatProgressModel",
            "_view_count": null,
            "_view_module": "@jupyter-widgets/controls",
            "_view_module_version": "1.5.0",
            "_view_name": "ProgressView",
            "bar_style": "success",
            "description": "",
            "description_tooltip": null,
            "layout": "IPY_MODEL_fc6349bd57614a27a5bf35aadc708e7a",
            "max": 15561616,
            "min": 0,
            "orientation": "horizontal",
            "style": "IPY_MODEL_06dfa58b0f3c4e9bbc4aefbedbf7aa3a",
            "value": 15561616
          }
        },
        "9d41071d5c2f4e148d82b741c51b96d4": {
          "model_module": "@jupyter-widgets/controls",
          "model_name": "HTMLModel",
          "model_module_version": "1.5.0",
          "state": {
            "_dom_classes": [],
            "_model_module": "@jupyter-widgets/controls",
            "_model_module_version": "1.5.0",
            "_model_name": "HTMLModel",
            "_view_count": null,
            "_view_module": "@jupyter-widgets/controls",
            "_view_module_version": "1.5.0",
            "_view_name": "HTMLView",
            "description": "",
            "description_tooltip": null,
            "layout": "IPY_MODEL_0a006ff82f3140d99088b9fe8683f330",
            "placeholder": "​",
            "style": "IPY_MODEL_771d9bbfc5fa4fd2a1c2f29f051345b9",
            "value": " 15.6M/15.6M [00:00&lt;00:00, 26.5MB/s]"
          }
        },
        "586ddadb4ec842b2b643033d59226b15": {
          "model_module": "@jupyter-widgets/base",
          "model_name": "LayoutModel",
          "model_module_version": "1.2.0",
          "state": {
            "_model_module": "@jupyter-widgets/base",
            "_model_module_version": "1.2.0",
            "_model_name": "LayoutModel",
            "_view_count": null,
            "_view_module": "@jupyter-widgets/base",
            "_view_module_version": "1.2.0",
            "_view_name": "LayoutView",
            "align_content": null,
            "align_items": null,
            "align_self": null,
            "border": null,
            "bottom": null,
            "display": null,
            "flex": null,
            "flex_flow": null,
            "grid_area": null,
            "grid_auto_columns": null,
            "grid_auto_flow": null,
            "grid_auto_rows": null,
            "grid_column": null,
            "grid_gap": null,
            "grid_row": null,
            "grid_template_areas": null,
            "grid_template_columns": null,
            "grid_template_rows": null,
            "height": null,
            "justify_content": null,
            "justify_items": null,
            "left": null,
            "margin": null,
            "max_height": null,
            "max_width": null,
            "min_height": null,
            "min_width": null,
            "object_fit": null,
            "object_position": null,
            "order": null,
            "overflow": null,
            "overflow_x": null,
            "overflow_y": null,
            "padding": null,
            "right": null,
            "top": null,
            "visibility": null,
            "width": null
          }
        },
        "d5d10a15ca71442ca4ee692369caa4de": {
          "model_module": "@jupyter-widgets/base",
          "model_name": "LayoutModel",
          "model_module_version": "1.2.0",
          "state": {
            "_model_module": "@jupyter-widgets/base",
            "_model_module_version": "1.2.0",
            "_model_name": "LayoutModel",
            "_view_count": null,
            "_view_module": "@jupyter-widgets/base",
            "_view_module_version": "1.2.0",
            "_view_name": "LayoutView",
            "align_content": null,
            "align_items": null,
            "align_self": null,
            "border": null,
            "bottom": null,
            "display": null,
            "flex": null,
            "flex_flow": null,
            "grid_area": null,
            "grid_auto_columns": null,
            "grid_auto_flow": null,
            "grid_auto_rows": null,
            "grid_column": null,
            "grid_gap": null,
            "grid_row": null,
            "grid_template_areas": null,
            "grid_template_columns": null,
            "grid_template_rows": null,
            "height": null,
            "justify_content": null,
            "justify_items": null,
            "left": null,
            "margin": null,
            "max_height": null,
            "max_width": null,
            "min_height": null,
            "min_width": null,
            "object_fit": null,
            "object_position": null,
            "order": null,
            "overflow": null,
            "overflow_x": null,
            "overflow_y": null,
            "padding": null,
            "right": null,
            "top": null,
            "visibility": null,
            "width": null
          }
        },
        "f014d774d3e54038955a101a063292cb": {
          "model_module": "@jupyter-widgets/controls",
          "model_name": "DescriptionStyleModel",
          "model_module_version": "1.5.0",
          "state": {
            "_model_module": "@jupyter-widgets/controls",
            "_model_module_version": "1.5.0",
            "_model_name": "DescriptionStyleModel",
            "_view_count": null,
            "_view_module": "@jupyter-widgets/base",
            "_view_module_version": "1.2.0",
            "_view_name": "StyleView",
            "description_width": ""
          }
        },
        "fc6349bd57614a27a5bf35aadc708e7a": {
          "model_module": "@jupyter-widgets/base",
          "model_name": "LayoutModel",
          "model_module_version": "1.2.0",
          "state": {
            "_model_module": "@jupyter-widgets/base",
            "_model_module_version": "1.2.0",
            "_model_name": "LayoutModel",
            "_view_count": null,
            "_view_module": "@jupyter-widgets/base",
            "_view_module_version": "1.2.0",
            "_view_name": "LayoutView",
            "align_content": null,
            "align_items": null,
            "align_self": null,
            "border": null,
            "bottom": null,
            "display": null,
            "flex": null,
            "flex_flow": null,
            "grid_area": null,
            "grid_auto_columns": null,
            "grid_auto_flow": null,
            "grid_auto_rows": null,
            "grid_column": null,
            "grid_gap": null,
            "grid_row": null,
            "grid_template_areas": null,
            "grid_template_columns": null,
            "grid_template_rows": null,
            "height": null,
            "justify_content": null,
            "justify_items": null,
            "left": null,
            "margin": null,
            "max_height": null,
            "max_width": null,
            "min_height": null,
            "min_width": null,
            "object_fit": null,
            "object_position": null,
            "order": null,
            "overflow": null,
            "overflow_x": null,
            "overflow_y": null,
            "padding": null,
            "right": null,
            "top": null,
            "visibility": null,
            "width": null
          }
        },
        "06dfa58b0f3c4e9bbc4aefbedbf7aa3a": {
          "model_module": "@jupyter-widgets/controls",
          "model_name": "ProgressStyleModel",
          "model_module_version": "1.5.0",
          "state": {
            "_model_module": "@jupyter-widgets/controls",
            "_model_module_version": "1.5.0",
            "_model_name": "ProgressStyleModel",
            "_view_count": null,
            "_view_module": "@jupyter-widgets/base",
            "_view_module_version": "1.2.0",
            "_view_name": "StyleView",
            "bar_color": null,
            "description_width": ""
          }
        },
        "0a006ff82f3140d99088b9fe8683f330": {
          "model_module": "@jupyter-widgets/base",
          "model_name": "LayoutModel",
          "model_module_version": "1.2.0",
          "state": {
            "_model_module": "@jupyter-widgets/base",
            "_model_module_version": "1.2.0",
            "_model_name": "LayoutModel",
            "_view_count": null,
            "_view_module": "@jupyter-widgets/base",
            "_view_module_version": "1.2.0",
            "_view_name": "LayoutView",
            "align_content": null,
            "align_items": null,
            "align_self": null,
            "border": null,
            "bottom": null,
            "display": null,
            "flex": null,
            "flex_flow": null,
            "grid_area": null,
            "grid_auto_columns": null,
            "grid_auto_flow": null,
            "grid_auto_rows": null,
            "grid_column": null,
            "grid_gap": null,
            "grid_row": null,
            "grid_template_areas": null,
            "grid_template_columns": null,
            "grid_template_rows": null,
            "height": null,
            "justify_content": null,
            "justify_items": null,
            "left": null,
            "margin": null,
            "max_height": null,
            "max_width": null,
            "min_height": null,
            "min_width": null,
            "object_fit": null,
            "object_position": null,
            "order": null,
            "overflow": null,
            "overflow_x": null,
            "overflow_y": null,
            "padding": null,
            "right": null,
            "top": null,
            "visibility": null,
            "width": null
          }
        },
        "771d9bbfc5fa4fd2a1c2f29f051345b9": {
          "model_module": "@jupyter-widgets/controls",
          "model_name": "DescriptionStyleModel",
          "model_module_version": "1.5.0",
          "state": {
            "_model_module": "@jupyter-widgets/controls",
            "_model_module_version": "1.5.0",
            "_model_name": "DescriptionStyleModel",
            "_view_count": null,
            "_view_module": "@jupyter-widgets/base",
            "_view_module_version": "1.2.0",
            "_view_name": "StyleView",
            "description_width": ""
          }
        },
        "ae0577ec46eb4a73adab5fb7df62b904": {
          "model_module": "@jupyter-widgets/controls",
          "model_name": "HBoxModel",
          "model_module_version": "1.5.0",
          "state": {
            "_dom_classes": [],
            "_model_module": "@jupyter-widgets/controls",
            "_model_module_version": "1.5.0",
            "_model_name": "HBoxModel",
            "_view_count": null,
            "_view_module": "@jupyter-widgets/controls",
            "_view_module_version": "1.5.0",
            "_view_name": "HBoxView",
            "box_style": "",
            "children": [
              "IPY_MODEL_11d08afab15b4e63ac7b953549eee89e",
              "IPY_MODEL_ef593070fc954631a19524a49ff8acbb",
              "IPY_MODEL_74598f2703e149168b300071e19efe73"
            ],
            "layout": "IPY_MODEL_2809a16359e6402ebdda0d022b5bb446"
          }
        },
        "11d08afab15b4e63ac7b953549eee89e": {
          "model_module": "@jupyter-widgets/controls",
          "model_name": "HTMLModel",
          "model_module_version": "1.5.0",
          "state": {
            "_dom_classes": [],
            "_model_module": "@jupyter-widgets/controls",
            "_model_module_version": "1.5.0",
            "_model_name": "HTMLModel",
            "_view_count": null,
            "_view_module": "@jupyter-widgets/controls",
            "_view_module_version": "1.5.0",
            "_view_name": "HTMLView",
            "description": "",
            "description_tooltip": null,
            "layout": "IPY_MODEL_98aac37a430848d3bed2b7279e05e7da",
            "placeholder": "​",
            "style": "IPY_MODEL_8e2169fb263247dcb9827ec652907103",
            "value": "test-00000-of-00001.parquet: 100%"
          }
        },
        "ef593070fc954631a19524a49ff8acbb": {
          "model_module": "@jupyter-widgets/controls",
          "model_name": "FloatProgressModel",
          "model_module_version": "1.5.0",
          "state": {
            "_dom_classes": [],
            "_model_module": "@jupyter-widgets/controls",
            "_model_module_version": "1.5.0",
            "_model_name": "FloatProgressModel",
            "_view_count": null,
            "_view_module": "@jupyter-widgets/controls",
            "_view_module_version": "1.5.0",
            "_view_name": "ProgressView",
            "bar_style": "success",
            "description": "",
            "description_tooltip": null,
            "layout": "IPY_MODEL_872ba075115542b78fd915644db09d10",
            "max": 2595890,
            "min": 0,
            "orientation": "horizontal",
            "style": "IPY_MODEL_7f792c3c3dc4433796dd51b2a937a819",
            "value": 2595890
          }
        },
        "74598f2703e149168b300071e19efe73": {
          "model_module": "@jupyter-widgets/controls",
          "model_name": "HTMLModel",
          "model_module_version": "1.5.0",
          "state": {
            "_dom_classes": [],
            "_model_module": "@jupyter-widgets/controls",
            "_model_module_version": "1.5.0",
            "_model_name": "HTMLModel",
            "_view_count": null,
            "_view_module": "@jupyter-widgets/controls",
            "_view_module_version": "1.5.0",
            "_view_name": "HTMLView",
            "description": "",
            "description_tooltip": null,
            "layout": "IPY_MODEL_dc485aa58f7143c1b13de2dc0f913189",
            "placeholder": "​",
            "style": "IPY_MODEL_e21f2177f3384fb48f60ed5edecc11ff",
            "value": " 2.60M/2.60M [00:00&lt;00:00, 37.2MB/s]"
          }
        },
        "2809a16359e6402ebdda0d022b5bb446": {
          "model_module": "@jupyter-widgets/base",
          "model_name": "LayoutModel",
          "model_module_version": "1.2.0",
          "state": {
            "_model_module": "@jupyter-widgets/base",
            "_model_module_version": "1.2.0",
            "_model_name": "LayoutModel",
            "_view_count": null,
            "_view_module": "@jupyter-widgets/base",
            "_view_module_version": "1.2.0",
            "_view_name": "LayoutView",
            "align_content": null,
            "align_items": null,
            "align_self": null,
            "border": null,
            "bottom": null,
            "display": null,
            "flex": null,
            "flex_flow": null,
            "grid_area": null,
            "grid_auto_columns": null,
            "grid_auto_flow": null,
            "grid_auto_rows": null,
            "grid_column": null,
            "grid_gap": null,
            "grid_row": null,
            "grid_template_areas": null,
            "grid_template_columns": null,
            "grid_template_rows": null,
            "height": null,
            "justify_content": null,
            "justify_items": null,
            "left": null,
            "margin": null,
            "max_height": null,
            "max_width": null,
            "min_height": null,
            "min_width": null,
            "object_fit": null,
            "object_position": null,
            "order": null,
            "overflow": null,
            "overflow_x": null,
            "overflow_y": null,
            "padding": null,
            "right": null,
            "top": null,
            "visibility": null,
            "width": null
          }
        },
        "98aac37a430848d3bed2b7279e05e7da": {
          "model_module": "@jupyter-widgets/base",
          "model_name": "LayoutModel",
          "model_module_version": "1.2.0",
          "state": {
            "_model_module": "@jupyter-widgets/base",
            "_model_module_version": "1.2.0",
            "_model_name": "LayoutModel",
            "_view_count": null,
            "_view_module": "@jupyter-widgets/base",
            "_view_module_version": "1.2.0",
            "_view_name": "LayoutView",
            "align_content": null,
            "align_items": null,
            "align_self": null,
            "border": null,
            "bottom": null,
            "display": null,
            "flex": null,
            "flex_flow": null,
            "grid_area": null,
            "grid_auto_columns": null,
            "grid_auto_flow": null,
            "grid_auto_rows": null,
            "grid_column": null,
            "grid_gap": null,
            "grid_row": null,
            "grid_template_areas": null,
            "grid_template_columns": null,
            "grid_template_rows": null,
            "height": null,
            "justify_content": null,
            "justify_items": null,
            "left": null,
            "margin": null,
            "max_height": null,
            "max_width": null,
            "min_height": null,
            "min_width": null,
            "object_fit": null,
            "object_position": null,
            "order": null,
            "overflow": null,
            "overflow_x": null,
            "overflow_y": null,
            "padding": null,
            "right": null,
            "top": null,
            "visibility": null,
            "width": null
          }
        },
        "8e2169fb263247dcb9827ec652907103": {
          "model_module": "@jupyter-widgets/controls",
          "model_name": "DescriptionStyleModel",
          "model_module_version": "1.5.0",
          "state": {
            "_model_module": "@jupyter-widgets/controls",
            "_model_module_version": "1.5.0",
            "_model_name": "DescriptionStyleModel",
            "_view_count": null,
            "_view_module": "@jupyter-widgets/base",
            "_view_module_version": "1.2.0",
            "_view_name": "StyleView",
            "description_width": ""
          }
        },
        "872ba075115542b78fd915644db09d10": {
          "model_module": "@jupyter-widgets/base",
          "model_name": "LayoutModel",
          "model_module_version": "1.2.0",
          "state": {
            "_model_module": "@jupyter-widgets/base",
            "_model_module_version": "1.2.0",
            "_model_name": "LayoutModel",
            "_view_count": null,
            "_view_module": "@jupyter-widgets/base",
            "_view_module_version": "1.2.0",
            "_view_name": "LayoutView",
            "align_content": null,
            "align_items": null,
            "align_self": null,
            "border": null,
            "bottom": null,
            "display": null,
            "flex": null,
            "flex_flow": null,
            "grid_area": null,
            "grid_auto_columns": null,
            "grid_auto_flow": null,
            "grid_auto_rows": null,
            "grid_column": null,
            "grid_gap": null,
            "grid_row": null,
            "grid_template_areas": null,
            "grid_template_columns": null,
            "grid_template_rows": null,
            "height": null,
            "justify_content": null,
            "justify_items": null,
            "left": null,
            "margin": null,
            "max_height": null,
            "max_width": null,
            "min_height": null,
            "min_width": null,
            "object_fit": null,
            "object_position": null,
            "order": null,
            "overflow": null,
            "overflow_x": null,
            "overflow_y": null,
            "padding": null,
            "right": null,
            "top": null,
            "visibility": null,
            "width": null
          }
        },
        "7f792c3c3dc4433796dd51b2a937a819": {
          "model_module": "@jupyter-widgets/controls",
          "model_name": "ProgressStyleModel",
          "model_module_version": "1.5.0",
          "state": {
            "_model_module": "@jupyter-widgets/controls",
            "_model_module_version": "1.5.0",
            "_model_name": "ProgressStyleModel",
            "_view_count": null,
            "_view_module": "@jupyter-widgets/base",
            "_view_module_version": "1.2.0",
            "_view_name": "StyleView",
            "bar_color": null,
            "description_width": ""
          }
        },
        "dc485aa58f7143c1b13de2dc0f913189": {
          "model_module": "@jupyter-widgets/base",
          "model_name": "LayoutModel",
          "model_module_version": "1.2.0",
          "state": {
            "_model_module": "@jupyter-widgets/base",
            "_model_module_version": "1.2.0",
            "_model_name": "LayoutModel",
            "_view_count": null,
            "_view_module": "@jupyter-widgets/base",
            "_view_module_version": "1.2.0",
            "_view_name": "LayoutView",
            "align_content": null,
            "align_items": null,
            "align_self": null,
            "border": null,
            "bottom": null,
            "display": null,
            "flex": null,
            "flex_flow": null,
            "grid_area": null,
            "grid_auto_columns": null,
            "grid_auto_flow": null,
            "grid_auto_rows": null,
            "grid_column": null,
            "grid_gap": null,
            "grid_row": null,
            "grid_template_areas": null,
            "grid_template_columns": null,
            "grid_template_rows": null,
            "height": null,
            "justify_content": null,
            "justify_items": null,
            "left": null,
            "margin": null,
            "max_height": null,
            "max_width": null,
            "min_height": null,
            "min_width": null,
            "object_fit": null,
            "object_position": null,
            "order": null,
            "overflow": null,
            "overflow_x": null,
            "overflow_y": null,
            "padding": null,
            "right": null,
            "top": null,
            "visibility": null,
            "width": null
          }
        },
        "e21f2177f3384fb48f60ed5edecc11ff": {
          "model_module": "@jupyter-widgets/controls",
          "model_name": "DescriptionStyleModel",
          "model_module_version": "1.5.0",
          "state": {
            "_model_module": "@jupyter-widgets/controls",
            "_model_module_version": "1.5.0",
            "_model_name": "DescriptionStyleModel",
            "_view_count": null,
            "_view_module": "@jupyter-widgets/base",
            "_view_module_version": "1.2.0",
            "_view_name": "StyleView",
            "description_width": ""
          }
        },
        "c960512768f74ad7ad12266b26002100": {
          "model_module": "@jupyter-widgets/controls",
          "model_name": "HBoxModel",
          "model_module_version": "1.5.0",
          "state": {
            "_dom_classes": [],
            "_model_module": "@jupyter-widgets/controls",
            "_model_module_version": "1.5.0",
            "_model_name": "HBoxModel",
            "_view_count": null,
            "_view_module": "@jupyter-widgets/controls",
            "_view_module_version": "1.5.0",
            "_view_name": "HBoxView",
            "box_style": "",
            "children": [
              "IPY_MODEL_92e5faac41c243c69da9609dbf469e0a",
              "IPY_MODEL_980db03f54b746e9aa61ad9bf2e0d6a9",
              "IPY_MODEL_bef651ceba0048d18d70f485421d3828"
            ],
            "layout": "IPY_MODEL_c57cd8cecc88486bacf41bc13c412caf"
          }
        },
        "92e5faac41c243c69da9609dbf469e0a": {
          "model_module": "@jupyter-widgets/controls",
          "model_name": "HTMLModel",
          "model_module_version": "1.5.0",
          "state": {
            "_dom_classes": [],
            "_model_module": "@jupyter-widgets/controls",
            "_model_module_version": "1.5.0",
            "_model_name": "HTMLModel",
            "_view_count": null,
            "_view_module": "@jupyter-widgets/controls",
            "_view_module_version": "1.5.0",
            "_view_name": "HTMLView",
            "description": "",
            "description_tooltip": null,
            "layout": "IPY_MODEL_c74845a2265d4b6491a28e7ed7b52f44",
            "placeholder": "​",
            "style": "IPY_MODEL_ff63d6570cb84c2b80aeaf4870bf7124",
            "value": "Generating train split: 100%"
          }
        },
        "980db03f54b746e9aa61ad9bf2e0d6a9": {
          "model_module": "@jupyter-widgets/controls",
          "model_name": "FloatProgressModel",
          "model_module_version": "1.5.0",
          "state": {
            "_dom_classes": [],
            "_model_module": "@jupyter-widgets/controls",
            "_model_module_version": "1.5.0",
            "_model_name": "FloatProgressModel",
            "_view_count": null,
            "_view_module": "@jupyter-widgets/controls",
            "_view_module_version": "1.5.0",
            "_view_name": "ProgressView",
            "bar_style": "success",
            "description": "",
            "description_tooltip": null,
            "layout": "IPY_MODEL_77ac6e81efc24866b1f96fe05cb48c8d",
            "max": 60000,
            "min": 0,
            "orientation": "horizontal",
            "style": "IPY_MODEL_0e3e863172bf4d9aa7ea2b7f3d5a46dd",
            "value": 60000
          }
        },
        "bef651ceba0048d18d70f485421d3828": {
          "model_module": "@jupyter-widgets/controls",
          "model_name": "HTMLModel",
          "model_module_version": "1.5.0",
          "state": {
            "_dom_classes": [],
            "_model_module": "@jupyter-widgets/controls",
            "_model_module_version": "1.5.0",
            "_model_name": "HTMLModel",
            "_view_count": null,
            "_view_module": "@jupyter-widgets/controls",
            "_view_module_version": "1.5.0",
            "_view_name": "HTMLView",
            "description": "",
            "description_tooltip": null,
            "layout": "IPY_MODEL_c467b38229fd4c0ca52799b5f92ec00a",
            "placeholder": "​",
            "style": "IPY_MODEL_3f3d5fbbd46745ca8738df0049218c57",
            "value": " 60000/60000 [00:00&lt;00:00, 84269.82 examples/s]"
          }
        },
        "c57cd8cecc88486bacf41bc13c412caf": {
          "model_module": "@jupyter-widgets/base",
          "model_name": "LayoutModel",
          "model_module_version": "1.2.0",
          "state": {
            "_model_module": "@jupyter-widgets/base",
            "_model_module_version": "1.2.0",
            "_model_name": "LayoutModel",
            "_view_count": null,
            "_view_module": "@jupyter-widgets/base",
            "_view_module_version": "1.2.0",
            "_view_name": "LayoutView",
            "align_content": null,
            "align_items": null,
            "align_self": null,
            "border": null,
            "bottom": null,
            "display": null,
            "flex": null,
            "flex_flow": null,
            "grid_area": null,
            "grid_auto_columns": null,
            "grid_auto_flow": null,
            "grid_auto_rows": null,
            "grid_column": null,
            "grid_gap": null,
            "grid_row": null,
            "grid_template_areas": null,
            "grid_template_columns": null,
            "grid_template_rows": null,
            "height": null,
            "justify_content": null,
            "justify_items": null,
            "left": null,
            "margin": null,
            "max_height": null,
            "max_width": null,
            "min_height": null,
            "min_width": null,
            "object_fit": null,
            "object_position": null,
            "order": null,
            "overflow": null,
            "overflow_x": null,
            "overflow_y": null,
            "padding": null,
            "right": null,
            "top": null,
            "visibility": null,
            "width": null
          }
        },
        "c74845a2265d4b6491a28e7ed7b52f44": {
          "model_module": "@jupyter-widgets/base",
          "model_name": "LayoutModel",
          "model_module_version": "1.2.0",
          "state": {
            "_model_module": "@jupyter-widgets/base",
            "_model_module_version": "1.2.0",
            "_model_name": "LayoutModel",
            "_view_count": null,
            "_view_module": "@jupyter-widgets/base",
            "_view_module_version": "1.2.0",
            "_view_name": "LayoutView",
            "align_content": null,
            "align_items": null,
            "align_self": null,
            "border": null,
            "bottom": null,
            "display": null,
            "flex": null,
            "flex_flow": null,
            "grid_area": null,
            "grid_auto_columns": null,
            "grid_auto_flow": null,
            "grid_auto_rows": null,
            "grid_column": null,
            "grid_gap": null,
            "grid_row": null,
            "grid_template_areas": null,
            "grid_template_columns": null,
            "grid_template_rows": null,
            "height": null,
            "justify_content": null,
            "justify_items": null,
            "left": null,
            "margin": null,
            "max_height": null,
            "max_width": null,
            "min_height": null,
            "min_width": null,
            "object_fit": null,
            "object_position": null,
            "order": null,
            "overflow": null,
            "overflow_x": null,
            "overflow_y": null,
            "padding": null,
            "right": null,
            "top": null,
            "visibility": null,
            "width": null
          }
        },
        "ff63d6570cb84c2b80aeaf4870bf7124": {
          "model_module": "@jupyter-widgets/controls",
          "model_name": "DescriptionStyleModel",
          "model_module_version": "1.5.0",
          "state": {
            "_model_module": "@jupyter-widgets/controls",
            "_model_module_version": "1.5.0",
            "_model_name": "DescriptionStyleModel",
            "_view_count": null,
            "_view_module": "@jupyter-widgets/base",
            "_view_module_version": "1.2.0",
            "_view_name": "StyleView",
            "description_width": ""
          }
        },
        "77ac6e81efc24866b1f96fe05cb48c8d": {
          "model_module": "@jupyter-widgets/base",
          "model_name": "LayoutModel",
          "model_module_version": "1.2.0",
          "state": {
            "_model_module": "@jupyter-widgets/base",
            "_model_module_version": "1.2.0",
            "_model_name": "LayoutModel",
            "_view_count": null,
            "_view_module": "@jupyter-widgets/base",
            "_view_module_version": "1.2.0",
            "_view_name": "LayoutView",
            "align_content": null,
            "align_items": null,
            "align_self": null,
            "border": null,
            "bottom": null,
            "display": null,
            "flex": null,
            "flex_flow": null,
            "grid_area": null,
            "grid_auto_columns": null,
            "grid_auto_flow": null,
            "grid_auto_rows": null,
            "grid_column": null,
            "grid_gap": null,
            "grid_row": null,
            "grid_template_areas": null,
            "grid_template_columns": null,
            "grid_template_rows": null,
            "height": null,
            "justify_content": null,
            "justify_items": null,
            "left": null,
            "margin": null,
            "max_height": null,
            "max_width": null,
            "min_height": null,
            "min_width": null,
            "object_fit": null,
            "object_position": null,
            "order": null,
            "overflow": null,
            "overflow_x": null,
            "overflow_y": null,
            "padding": null,
            "right": null,
            "top": null,
            "visibility": null,
            "width": null
          }
        },
        "0e3e863172bf4d9aa7ea2b7f3d5a46dd": {
          "model_module": "@jupyter-widgets/controls",
          "model_name": "ProgressStyleModel",
          "model_module_version": "1.5.0",
          "state": {
            "_model_module": "@jupyter-widgets/controls",
            "_model_module_version": "1.5.0",
            "_model_name": "ProgressStyleModel",
            "_view_count": null,
            "_view_module": "@jupyter-widgets/base",
            "_view_module_version": "1.2.0",
            "_view_name": "StyleView",
            "bar_color": null,
            "description_width": ""
          }
        },
        "c467b38229fd4c0ca52799b5f92ec00a": {
          "model_module": "@jupyter-widgets/base",
          "model_name": "LayoutModel",
          "model_module_version": "1.2.0",
          "state": {
            "_model_module": "@jupyter-widgets/base",
            "_model_module_version": "1.2.0",
            "_model_name": "LayoutModel",
            "_view_count": null,
            "_view_module": "@jupyter-widgets/base",
            "_view_module_version": "1.2.0",
            "_view_name": "LayoutView",
            "align_content": null,
            "align_items": null,
            "align_self": null,
            "border": null,
            "bottom": null,
            "display": null,
            "flex": null,
            "flex_flow": null,
            "grid_area": null,
            "grid_auto_columns": null,
            "grid_auto_flow": null,
            "grid_auto_rows": null,
            "grid_column": null,
            "grid_gap": null,
            "grid_row": null,
            "grid_template_areas": null,
            "grid_template_columns": null,
            "grid_template_rows": null,
            "height": null,
            "justify_content": null,
            "justify_items": null,
            "left": null,
            "margin": null,
            "max_height": null,
            "max_width": null,
            "min_height": null,
            "min_width": null,
            "object_fit": null,
            "object_position": null,
            "order": null,
            "overflow": null,
            "overflow_x": null,
            "overflow_y": null,
            "padding": null,
            "right": null,
            "top": null,
            "visibility": null,
            "width": null
          }
        },
        "3f3d5fbbd46745ca8738df0049218c57": {
          "model_module": "@jupyter-widgets/controls",
          "model_name": "DescriptionStyleModel",
          "model_module_version": "1.5.0",
          "state": {
            "_model_module": "@jupyter-widgets/controls",
            "_model_module_version": "1.5.0",
            "_model_name": "DescriptionStyleModel",
            "_view_count": null,
            "_view_module": "@jupyter-widgets/base",
            "_view_module_version": "1.2.0",
            "_view_name": "StyleView",
            "description_width": ""
          }
        },
        "1ec464c018b2423983c57e4b4b5ac22b": {
          "model_module": "@jupyter-widgets/controls",
          "model_name": "HBoxModel",
          "model_module_version": "1.5.0",
          "state": {
            "_dom_classes": [],
            "_model_module": "@jupyter-widgets/controls",
            "_model_module_version": "1.5.0",
            "_model_name": "HBoxModel",
            "_view_count": null,
            "_view_module": "@jupyter-widgets/controls",
            "_view_module_version": "1.5.0",
            "_view_name": "HBoxView",
            "box_style": "",
            "children": [
              "IPY_MODEL_95ed7e5c8cfb499b8c28ba0c4c995a76",
              "IPY_MODEL_f94737df77764d1786acad94a4177fa7",
              "IPY_MODEL_f9c78c65ad3c49ee8484de898570e295"
            ],
            "layout": "IPY_MODEL_a0a67ec5673943d5a65707298d0dfff8"
          }
        },
        "95ed7e5c8cfb499b8c28ba0c4c995a76": {
          "model_module": "@jupyter-widgets/controls",
          "model_name": "HTMLModel",
          "model_module_version": "1.5.0",
          "state": {
            "_dom_classes": [],
            "_model_module": "@jupyter-widgets/controls",
            "_model_module_version": "1.5.0",
            "_model_name": "HTMLModel",
            "_view_count": null,
            "_view_module": "@jupyter-widgets/controls",
            "_view_module_version": "1.5.0",
            "_view_name": "HTMLView",
            "description": "",
            "description_tooltip": null,
            "layout": "IPY_MODEL_6e5e46d7691147db9f3be762d8d9119c",
            "placeholder": "​",
            "style": "IPY_MODEL_821aa8e638c14332b0c1de0e0bf76ebb",
            "value": "Generating test split: 100%"
          }
        },
        "f94737df77764d1786acad94a4177fa7": {
          "model_module": "@jupyter-widgets/controls",
          "model_name": "FloatProgressModel",
          "model_module_version": "1.5.0",
          "state": {
            "_dom_classes": [],
            "_model_module": "@jupyter-widgets/controls",
            "_model_module_version": "1.5.0",
            "_model_name": "FloatProgressModel",
            "_view_count": null,
            "_view_module": "@jupyter-widgets/controls",
            "_view_module_version": "1.5.0",
            "_view_name": "ProgressView",
            "bar_style": "success",
            "description": "",
            "description_tooltip": null,
            "layout": "IPY_MODEL_e6917a85ddcc4ad19eca1cf0242e8602",
            "max": 10000,
            "min": 0,
            "orientation": "horizontal",
            "style": "IPY_MODEL_a785bb33f233470aa8a175099027e00d",
            "value": 10000
          }
        },
        "f9c78c65ad3c49ee8484de898570e295": {
          "model_module": "@jupyter-widgets/controls",
          "model_name": "HTMLModel",
          "model_module_version": "1.5.0",
          "state": {
            "_dom_classes": [],
            "_model_module": "@jupyter-widgets/controls",
            "_model_module_version": "1.5.0",
            "_model_name": "HTMLModel",
            "_view_count": null,
            "_view_module": "@jupyter-widgets/controls",
            "_view_module_version": "1.5.0",
            "_view_name": "HTMLView",
            "description": "",
            "description_tooltip": null,
            "layout": "IPY_MODEL_c7b01dab6e424cedaa784da8294c4578",
            "placeholder": "​",
            "style": "IPY_MODEL_938637ca85da4353ac046d5ddf2fb373",
            "value": " 10000/10000 [00:00&lt;00:00, 753.08 examples/s]"
          }
        },
        "a0a67ec5673943d5a65707298d0dfff8": {
          "model_module": "@jupyter-widgets/base",
          "model_name": "LayoutModel",
          "model_module_version": "1.2.0",
          "state": {
            "_model_module": "@jupyter-widgets/base",
            "_model_module_version": "1.2.0",
            "_model_name": "LayoutModel",
            "_view_count": null,
            "_view_module": "@jupyter-widgets/base",
            "_view_module_version": "1.2.0",
            "_view_name": "LayoutView",
            "align_content": null,
            "align_items": null,
            "align_self": null,
            "border": null,
            "bottom": null,
            "display": null,
            "flex": null,
            "flex_flow": null,
            "grid_area": null,
            "grid_auto_columns": null,
            "grid_auto_flow": null,
            "grid_auto_rows": null,
            "grid_column": null,
            "grid_gap": null,
            "grid_row": null,
            "grid_template_areas": null,
            "grid_template_columns": null,
            "grid_template_rows": null,
            "height": null,
            "justify_content": null,
            "justify_items": null,
            "left": null,
            "margin": null,
            "max_height": null,
            "max_width": null,
            "min_height": null,
            "min_width": null,
            "object_fit": null,
            "object_position": null,
            "order": null,
            "overflow": null,
            "overflow_x": null,
            "overflow_y": null,
            "padding": null,
            "right": null,
            "top": null,
            "visibility": null,
            "width": null
          }
        },
        "6e5e46d7691147db9f3be762d8d9119c": {
          "model_module": "@jupyter-widgets/base",
          "model_name": "LayoutModel",
          "model_module_version": "1.2.0",
          "state": {
            "_model_module": "@jupyter-widgets/base",
            "_model_module_version": "1.2.0",
            "_model_name": "LayoutModel",
            "_view_count": null,
            "_view_module": "@jupyter-widgets/base",
            "_view_module_version": "1.2.0",
            "_view_name": "LayoutView",
            "align_content": null,
            "align_items": null,
            "align_self": null,
            "border": null,
            "bottom": null,
            "display": null,
            "flex": null,
            "flex_flow": null,
            "grid_area": null,
            "grid_auto_columns": null,
            "grid_auto_flow": null,
            "grid_auto_rows": null,
            "grid_column": null,
            "grid_gap": null,
            "grid_row": null,
            "grid_template_areas": null,
            "grid_template_columns": null,
            "grid_template_rows": null,
            "height": null,
            "justify_content": null,
            "justify_items": null,
            "left": null,
            "margin": null,
            "max_height": null,
            "max_width": null,
            "min_height": null,
            "min_width": null,
            "object_fit": null,
            "object_position": null,
            "order": null,
            "overflow": null,
            "overflow_x": null,
            "overflow_y": null,
            "padding": null,
            "right": null,
            "top": null,
            "visibility": null,
            "width": null
          }
        },
        "821aa8e638c14332b0c1de0e0bf76ebb": {
          "model_module": "@jupyter-widgets/controls",
          "model_name": "DescriptionStyleModel",
          "model_module_version": "1.5.0",
          "state": {
            "_model_module": "@jupyter-widgets/controls",
            "_model_module_version": "1.5.0",
            "_model_name": "DescriptionStyleModel",
            "_view_count": null,
            "_view_module": "@jupyter-widgets/base",
            "_view_module_version": "1.2.0",
            "_view_name": "StyleView",
            "description_width": ""
          }
        },
        "e6917a85ddcc4ad19eca1cf0242e8602": {
          "model_module": "@jupyter-widgets/base",
          "model_name": "LayoutModel",
          "model_module_version": "1.2.0",
          "state": {
            "_model_module": "@jupyter-widgets/base",
            "_model_module_version": "1.2.0",
            "_model_name": "LayoutModel",
            "_view_count": null,
            "_view_module": "@jupyter-widgets/base",
            "_view_module_version": "1.2.0",
            "_view_name": "LayoutView",
            "align_content": null,
            "align_items": null,
            "align_self": null,
            "border": null,
            "bottom": null,
            "display": null,
            "flex": null,
            "flex_flow": null,
            "grid_area": null,
            "grid_auto_columns": null,
            "grid_auto_flow": null,
            "grid_auto_rows": null,
            "grid_column": null,
            "grid_gap": null,
            "grid_row": null,
            "grid_template_areas": null,
            "grid_template_columns": null,
            "grid_template_rows": null,
            "height": null,
            "justify_content": null,
            "justify_items": null,
            "left": null,
            "margin": null,
            "max_height": null,
            "max_width": null,
            "min_height": null,
            "min_width": null,
            "object_fit": null,
            "object_position": null,
            "order": null,
            "overflow": null,
            "overflow_x": null,
            "overflow_y": null,
            "padding": null,
            "right": null,
            "top": null,
            "visibility": null,
            "width": null
          }
        },
        "a785bb33f233470aa8a175099027e00d": {
          "model_module": "@jupyter-widgets/controls",
          "model_name": "ProgressStyleModel",
          "model_module_version": "1.5.0",
          "state": {
            "_model_module": "@jupyter-widgets/controls",
            "_model_module_version": "1.5.0",
            "_model_name": "ProgressStyleModel",
            "_view_count": null,
            "_view_module": "@jupyter-widgets/base",
            "_view_module_version": "1.2.0",
            "_view_name": "StyleView",
            "bar_color": null,
            "description_width": ""
          }
        },
        "c7b01dab6e424cedaa784da8294c4578": {
          "model_module": "@jupyter-widgets/base",
          "model_name": "LayoutModel",
          "model_module_version": "1.2.0",
          "state": {
            "_model_module": "@jupyter-widgets/base",
            "_model_module_version": "1.2.0",
            "_model_name": "LayoutModel",
            "_view_count": null,
            "_view_module": "@jupyter-widgets/base",
            "_view_module_version": "1.2.0",
            "_view_name": "LayoutView",
            "align_content": null,
            "align_items": null,
            "align_self": null,
            "border": null,
            "bottom": null,
            "display": null,
            "flex": null,
            "flex_flow": null,
            "grid_area": null,
            "grid_auto_columns": null,
            "grid_auto_flow": null,
            "grid_auto_rows": null,
            "grid_column": null,
            "grid_gap": null,
            "grid_row": null,
            "grid_template_areas": null,
            "grid_template_columns": null,
            "grid_template_rows": null,
            "height": null,
            "justify_content": null,
            "justify_items": null,
            "left": null,
            "margin": null,
            "max_height": null,
            "max_width": null,
            "min_height": null,
            "min_width": null,
            "object_fit": null,
            "object_position": null,
            "order": null,
            "overflow": null,
            "overflow_x": null,
            "overflow_y": null,
            "padding": null,
            "right": null,
            "top": null,
            "visibility": null,
            "width": null
          }
        },
        "938637ca85da4353ac046d5ddf2fb373": {
          "model_module": "@jupyter-widgets/controls",
          "model_name": "DescriptionStyleModel",
          "model_module_version": "1.5.0",
          "state": {
            "_model_module": "@jupyter-widgets/controls",
            "_model_module_version": "1.5.0",
            "_model_name": "DescriptionStyleModel",
            "_view_count": null,
            "_view_module": "@jupyter-widgets/base",
            "_view_module_version": "1.2.0",
            "_view_name": "StyleView",
            "description_width": ""
          }
        }
      }
    }
  },
  "cells": [
    {
      "cell_type": "code",
      "execution_count": 1,
      "metadata": {
        "colab": {
          "base_uri": "https://localhost:8080/"
        },
        "id": "c3H_i5zRvVOq",
        "outputId": "62db7089-1537-4ca9-a2db-1e0ad20e91b3"
      },
      "outputs": [
        {
          "output_type": "stream",
          "name": "stdout",
          "text": [
            "Collecting datasets\n",
            "  Downloading datasets-3.3.0-py3-none-any.whl.metadata (19 kB)\n",
            "Requirement already satisfied: filelock in /usr/local/lib/python3.11/dist-packages (from datasets) (3.17.0)\n",
            "Requirement already satisfied: numpy>=1.17 in /usr/local/lib/python3.11/dist-packages (from datasets) (1.26.4)\n",
            "Requirement already satisfied: pyarrow>=15.0.0 in /usr/local/lib/python3.11/dist-packages (from datasets) (17.0.0)\n",
            "Collecting dill<0.3.9,>=0.3.0 (from datasets)\n",
            "  Downloading dill-0.3.8-py3-none-any.whl.metadata (10 kB)\n",
            "Requirement already satisfied: pandas in /usr/local/lib/python3.11/dist-packages (from datasets) (2.2.2)\n",
            "Requirement already satisfied: requests>=2.32.2 in /usr/local/lib/python3.11/dist-packages (from datasets) (2.32.3)\n",
            "Requirement already satisfied: tqdm>=4.66.3 in /usr/local/lib/python3.11/dist-packages (from datasets) (4.67.1)\n",
            "Collecting xxhash (from datasets)\n",
            "  Downloading xxhash-3.5.0-cp311-cp311-manylinux_2_17_x86_64.manylinux2014_x86_64.whl.metadata (12 kB)\n",
            "Collecting multiprocess<0.70.17 (from datasets)\n",
            "  Downloading multiprocess-0.70.16-py311-none-any.whl.metadata (7.2 kB)\n",
            "Requirement already satisfied: fsspec<=2024.12.0,>=2023.1.0 in /usr/local/lib/python3.11/dist-packages (from fsspec[http]<=2024.12.0,>=2023.1.0->datasets) (2024.10.0)\n",
            "Requirement already satisfied: aiohttp in /usr/local/lib/python3.11/dist-packages (from datasets) (3.11.12)\n",
            "Requirement already satisfied: huggingface-hub>=0.24.0 in /usr/local/lib/python3.11/dist-packages (from datasets) (0.28.1)\n",
            "Requirement already satisfied: packaging in /usr/local/lib/python3.11/dist-packages (from datasets) (24.2)\n",
            "Requirement already satisfied: pyyaml>=5.1 in /usr/local/lib/python3.11/dist-packages (from datasets) (6.0.2)\n",
            "Requirement already satisfied: aiohappyeyeballs>=2.3.0 in /usr/local/lib/python3.11/dist-packages (from aiohttp->datasets) (2.4.4)\n",
            "Requirement already satisfied: aiosignal>=1.1.2 in /usr/local/lib/python3.11/dist-packages (from aiohttp->datasets) (1.3.2)\n",
            "Requirement already satisfied: attrs>=17.3.0 in /usr/local/lib/python3.11/dist-packages (from aiohttp->datasets) (25.1.0)\n",
            "Requirement already satisfied: frozenlist>=1.1.1 in /usr/local/lib/python3.11/dist-packages (from aiohttp->datasets) (1.5.0)\n",
            "Requirement already satisfied: multidict<7.0,>=4.5 in /usr/local/lib/python3.11/dist-packages (from aiohttp->datasets) (6.1.0)\n",
            "Requirement already satisfied: propcache>=0.2.0 in /usr/local/lib/python3.11/dist-packages (from aiohttp->datasets) (0.2.1)\n",
            "Requirement already satisfied: yarl<2.0,>=1.17.0 in /usr/local/lib/python3.11/dist-packages (from aiohttp->datasets) (1.18.3)\n",
            "Requirement already satisfied: typing-extensions>=3.7.4.3 in /usr/local/lib/python3.11/dist-packages (from huggingface-hub>=0.24.0->datasets) (4.12.2)\n",
            "Requirement already satisfied: charset-normalizer<4,>=2 in /usr/local/lib/python3.11/dist-packages (from requests>=2.32.2->datasets) (3.4.1)\n",
            "Requirement already satisfied: idna<4,>=2.5 in /usr/local/lib/python3.11/dist-packages (from requests>=2.32.2->datasets) (3.10)\n",
            "Requirement already satisfied: urllib3<3,>=1.21.1 in /usr/local/lib/python3.11/dist-packages (from requests>=2.32.2->datasets) (2.3.0)\n",
            "Requirement already satisfied: certifi>=2017.4.17 in /usr/local/lib/python3.11/dist-packages (from requests>=2.32.2->datasets) (2025.1.31)\n",
            "Requirement already satisfied: python-dateutil>=2.8.2 in /usr/local/lib/python3.11/dist-packages (from pandas->datasets) (2.8.2)\n",
            "Requirement already satisfied: pytz>=2020.1 in /usr/local/lib/python3.11/dist-packages (from pandas->datasets) (2025.1)\n",
            "Requirement already satisfied: tzdata>=2022.7 in /usr/local/lib/python3.11/dist-packages (from pandas->datasets) (2025.1)\n",
            "Requirement already satisfied: six>=1.5 in /usr/local/lib/python3.11/dist-packages (from python-dateutil>=2.8.2->pandas->datasets) (1.17.0)\n",
            "Downloading datasets-3.3.0-py3-none-any.whl (484 kB)\n",
            "\u001b[2K   \u001b[90m━━━━━━━━━━━━━━━━━━━━━━━━━━━━━━━━━━━━━━━━\u001b[0m \u001b[32m484.9/484.9 kB\u001b[0m \u001b[31m10.2 MB/s\u001b[0m eta \u001b[36m0:00:00\u001b[0m\n",
            "\u001b[?25hDownloading dill-0.3.8-py3-none-any.whl (116 kB)\n",
            "\u001b[2K   \u001b[90m━━━━━━━━━━━━━━━━━━━━━━━━━━━━━━━━━━━━━━━━\u001b[0m \u001b[32m116.3/116.3 kB\u001b[0m \u001b[31m10.6 MB/s\u001b[0m eta \u001b[36m0:00:00\u001b[0m\n",
            "\u001b[?25hDownloading multiprocess-0.70.16-py311-none-any.whl (143 kB)\n",
            "\u001b[2K   \u001b[90m━━━━━━━━━━━━━━━━━━━━━━━━━━━━━━━━━━━━━━━━\u001b[0m \u001b[32m143.5/143.5 kB\u001b[0m \u001b[31m15.0 MB/s\u001b[0m eta \u001b[36m0:00:00\u001b[0m\n",
            "\u001b[?25hDownloading xxhash-3.5.0-cp311-cp311-manylinux_2_17_x86_64.manylinux2014_x86_64.whl (194 kB)\n",
            "\u001b[2K   \u001b[90m━━━━━━━━━━━━━━━━━━━━━━━━━━━━━━━━━━━━━━━━\u001b[0m \u001b[32m194.8/194.8 kB\u001b[0m \u001b[31m18.8 MB/s\u001b[0m eta \u001b[36m0:00:00\u001b[0m\n",
            "\u001b[?25hInstalling collected packages: xxhash, dill, multiprocess, datasets\n",
            "Successfully installed datasets-3.3.0 dill-0.3.8 multiprocess-0.70.16 xxhash-3.5.0\n"
          ]
        }
      ],
      "source": [
        "!pip install datasets"
      ]
    },
    {
      "cell_type": "code",
      "source": [
        "from datasets import load_dataset\n",
        "data = load_dataset(\"ylecun/mnist\")\n",
        "data"
      ],
      "metadata": {
        "colab": {
          "base_uri": "https://localhost:8080/",
          "height": 475,
          "referenced_widgets": [
            "8065eea948f749b99118eb27e61d0c2e",
            "5af1b474a07445cf915d90201de0691d",
            "1af0187aece34510be04eb90b2737a0b",
            "ac79d10add404202ae70e6acf8b202eb",
            "0f621722987f49db9c130d0fff50f3a1",
            "2b2005e1482b4a8d8c0ac3608bcbb281",
            "75a157a87d6346c38b6ceffff722a040",
            "c53840950c804963950479939ab7b401",
            "324bc28dea0543aa9208bb1bc09c782c",
            "f8fbfe22f4c14832a44330458eb2082c",
            "d04918b541a0447ea0dda413402d6ad6",
            "e9de5e1f68b34ca888f2518f1d2f0fc2",
            "eb96729637734285870a04bebdaecb30",
            "655f0a77de1c4856a4d398aceb6d97a4",
            "9d41071d5c2f4e148d82b741c51b96d4",
            "586ddadb4ec842b2b643033d59226b15",
            "d5d10a15ca71442ca4ee692369caa4de",
            "f014d774d3e54038955a101a063292cb",
            "fc6349bd57614a27a5bf35aadc708e7a",
            "06dfa58b0f3c4e9bbc4aefbedbf7aa3a",
            "0a006ff82f3140d99088b9fe8683f330",
            "771d9bbfc5fa4fd2a1c2f29f051345b9",
            "ae0577ec46eb4a73adab5fb7df62b904",
            "11d08afab15b4e63ac7b953549eee89e",
            "ef593070fc954631a19524a49ff8acbb",
            "74598f2703e149168b300071e19efe73",
            "2809a16359e6402ebdda0d022b5bb446",
            "98aac37a430848d3bed2b7279e05e7da",
            "8e2169fb263247dcb9827ec652907103",
            "872ba075115542b78fd915644db09d10",
            "7f792c3c3dc4433796dd51b2a937a819",
            "dc485aa58f7143c1b13de2dc0f913189",
            "e21f2177f3384fb48f60ed5edecc11ff",
            "c960512768f74ad7ad12266b26002100",
            "92e5faac41c243c69da9609dbf469e0a",
            "980db03f54b746e9aa61ad9bf2e0d6a9",
            "bef651ceba0048d18d70f485421d3828",
            "c57cd8cecc88486bacf41bc13c412caf",
            "c74845a2265d4b6491a28e7ed7b52f44",
            "ff63d6570cb84c2b80aeaf4870bf7124",
            "77ac6e81efc24866b1f96fe05cb48c8d",
            "0e3e863172bf4d9aa7ea2b7f3d5a46dd",
            "c467b38229fd4c0ca52799b5f92ec00a",
            "3f3d5fbbd46745ca8738df0049218c57",
            "1ec464c018b2423983c57e4b4b5ac22b",
            "95ed7e5c8cfb499b8c28ba0c4c995a76",
            "f94737df77764d1786acad94a4177fa7",
            "f9c78c65ad3c49ee8484de898570e295",
            "a0a67ec5673943d5a65707298d0dfff8",
            "6e5e46d7691147db9f3be762d8d9119c",
            "821aa8e638c14332b0c1de0e0bf76ebb",
            "e6917a85ddcc4ad19eca1cf0242e8602",
            "a785bb33f233470aa8a175099027e00d",
            "c7b01dab6e424cedaa784da8294c4578",
            "938637ca85da4353ac046d5ddf2fb373"
          ]
        },
        "id": "b_oRJxXsvsKQ",
        "outputId": "640d1ba2-ec36-446b-8afe-cff530e96a7a"
      },
      "execution_count": 2,
      "outputs": [
        {
          "output_type": "stream",
          "name": "stderr",
          "text": [
            "/usr/local/lib/python3.11/dist-packages/huggingface_hub/utils/_auth.py:94: UserWarning: \n",
            "The secret `HF_TOKEN` does not exist in your Colab secrets.\n",
            "To authenticate with the Hugging Face Hub, create a token in your settings tab (https://huggingface.co/settings/tokens), set it as secret in your Google Colab and restart your session.\n",
            "You will be able to reuse this secret in all of your notebooks.\n",
            "Please note that authentication is recommended but still optional to access public models or datasets.\n",
            "  warnings.warn(\n"
          ]
        },
        {
          "output_type": "display_data",
          "data": {
            "text/plain": [
              "README.md:   0%|          | 0.00/6.97k [00:00<?, ?B/s]"
            ],
            "application/vnd.jupyter.widget-view+json": {
              "version_major": 2,
              "version_minor": 0,
              "model_id": "8065eea948f749b99118eb27e61d0c2e"
            }
          },
          "metadata": {}
        },
        {
          "output_type": "display_data",
          "data": {
            "text/plain": [
              "train-00000-of-00001.parquet:   0%|          | 0.00/15.6M [00:00<?, ?B/s]"
            ],
            "application/vnd.jupyter.widget-view+json": {
              "version_major": 2,
              "version_minor": 0,
              "model_id": "e9de5e1f68b34ca888f2518f1d2f0fc2"
            }
          },
          "metadata": {}
        },
        {
          "output_type": "display_data",
          "data": {
            "text/plain": [
              "test-00000-of-00001.parquet:   0%|          | 0.00/2.60M [00:00<?, ?B/s]"
            ],
            "application/vnd.jupyter.widget-view+json": {
              "version_major": 2,
              "version_minor": 0,
              "model_id": "ae0577ec46eb4a73adab5fb7df62b904"
            }
          },
          "metadata": {}
        },
        {
          "output_type": "display_data",
          "data": {
            "text/plain": [
              "Generating train split:   0%|          | 0/60000 [00:00<?, ? examples/s]"
            ],
            "application/vnd.jupyter.widget-view+json": {
              "version_major": 2,
              "version_minor": 0,
              "model_id": "c960512768f74ad7ad12266b26002100"
            }
          },
          "metadata": {}
        },
        {
          "output_type": "display_data",
          "data": {
            "text/plain": [
              "Generating test split:   0%|          | 0/10000 [00:00<?, ? examples/s]"
            ],
            "application/vnd.jupyter.widget-view+json": {
              "version_major": 2,
              "version_minor": 0,
              "model_id": "1ec464c018b2423983c57e4b4b5ac22b"
            }
          },
          "metadata": {}
        },
        {
          "output_type": "execute_result",
          "data": {
            "text/plain": [
              "DatasetDict({\n",
              "    train: Dataset({\n",
              "        features: ['image', 'label'],\n",
              "        num_rows: 60000\n",
              "    })\n",
              "    test: Dataset({\n",
              "        features: ['image', 'label'],\n",
              "        num_rows: 10000\n",
              "    })\n",
              "})"
            ]
          },
          "metadata": {},
          "execution_count": 2
        }
      ]
    },
    {
      "cell_type": "code",
      "source": [
        "# Preprocessing of the data\n",
        "\n",
        "import numpy as np\n",
        "\n",
        "train_images = np.array(data[\"train\"][\"image\"])\n",
        "train_labels = np.array(data[\"train\"][\"label\"])\n",
        "\n",
        "test_images = np.array(data[\"test\"][\"image\"])\n",
        "y_test = np.array(data[\"test\"][\"label\"])\n",
        "\n",
        "# Normalization of all the data\n",
        "train_images_norm=train_images/255\n",
        "test_images_norm=test_images/255\n",
        "\n",
        "n1=train_images.shape[0]\n",
        "n2=test_images.shape[0]\n",
        "\n",
        "# Flattening the data to make it 1-D from 2-D\n",
        "train_images_flat=train_images_norm.reshape([n1,-1])\n",
        "x_test=test_images_norm.reshape([n2,-1])"
      ],
      "metadata": {
        "id": "GnaTxT5TvxVr"
      },
      "execution_count": 3,
      "outputs": []
    },
    {
      "cell_type": "code",
      "source": [
        "# Setting a random seed\n",
        "np.random.seed(42)\n",
        "\n",
        "# Defining the number of initially labeled samples\n",
        "num_labeled = 10000\n",
        "\n",
        "# Generating random indices for the labeled dataset\n",
        "labeled_indices = np.random.choice(len(train_images_flat), num_labeled, replace=False)\n",
        "\n",
        "# Spliting the datasets into labeled and unlabeled datasets\n",
        "x_train = train_images_flat[labeled_indices]\n",
        "y_train = train_labels[labeled_indices]"
      ],
      "metadata": {
        "id": "Cet9eqRSEP8k"
      },
      "execution_count": 4,
      "outputs": []
    },
    {
      "cell_type": "markdown",
      "source": [
        "## Vanilla Linear Regression"
      ],
      "metadata": {
        "id": "lC005Oh21WLp"
      }
    },
    {
      "cell_type": "code",
      "source": [
        "from sklearn.linear_model import LinearRegression\n",
        "from sklearn.metrics import accuracy_score, precision_score, recall_score, f1_score\n",
        "import numpy as np\n",
        "import time\n",
        "\n",
        "start_time = time.time()\n",
        "# Training using vanilla Linear Regression Model\n",
        "lin_reg = LinearRegression()\n",
        "lin_reg.fit(x_train, y_train)\n",
        "end_time = time.time()\n",
        "\n",
        "# Calculating training time\n",
        "training_time_model_1 = end_time-start_time\n",
        "\n",
        "# Predicting the value on test and rounding it off to closest integer and cliping it from 0 to 9\n",
        "y_pred = lin_reg.predict(x_test)\n",
        "y_pred = np.round(y_pred).astype(int)\n",
        "y_pred = np.clip(y_pred, 0, 9)"
      ],
      "metadata": {
        "id": "9LGx4-XC0xtK"
      },
      "execution_count": 23,
      "outputs": []
    },
    {
      "cell_type": "code",
      "source": [
        "# Finding accuracy, precision, recall and f1 score for the model\n",
        "accuracy_percentage_model_1=(accuracy_score(y_test,y_pred))*100\n",
        "precision_percentage_model_1=(precision_score(y_test, y_pred, average=\"weighted\"))*100\n",
        "recall_percentage_model_1=(recall_score(y_test,y_pred, average=\"weighted\"))*100\n",
        "f1_percentage_model_1=(f1_score(y_test,y_pred, average=\"weighted\"))*100\n",
        "\n",
        "print(\"Vanilla Linear Regression Stats:\")\n",
        "print(f\"Accuracy: {accuracy_percentage_model_1:.2f}%\")\n",
        "print(f\"Precision: {precision_percentage_model_1:.2f}%\")\n",
        "print(f\"Recall: {recall_percentage_model_1:.2f}%\")\n",
        "print(f\"F1 Score: {f1_percentage_model_1:.2f}%\")\n",
        "print(f\"Training time: {training_time_model_1:.2f}sec\")"
      ],
      "metadata": {
        "colab": {
          "base_uri": "https://localhost:8080/"
        },
        "id": "Yv0CivhNBzza",
        "outputId": "66c2c35d-a3d2-46a9-9fc5-bfce90d513d5"
      },
      "execution_count": 24,
      "outputs": [
        {
          "output_type": "stream",
          "name": "stdout",
          "text": [
            "Vanilla Linear Regression Stats:\n",
            "Accuracy: 22.42%\n",
            "Precision: 28.31%\n",
            "Recall: 22.42%\n",
            "F1 Score: 22.95%\n",
            "Training time: 0.70sec\n"
          ]
        }
      ]
    },
    {
      "cell_type": "markdown",
      "source": [
        "## Polynomial Regression\n",
        "This can't be performed as each digit has 28 * 28 parameters which make 28 * 28 * 28 * 28 coefficients for degree 2 amking it intensively high for the computer to handle. \\\n",
        "So, we can reduce the dimension of it to 2 or 3 using PCA or tSNE and then apply polynomial regression."
      ],
      "metadata": {
        "id": "RR5Eyy2DHnV_"
      }
    },
    {
      "cell_type": "code",
      "source": [
        "from sklearn.decomposition import PCA\n",
        "from sklearn.preprocessing import PolynomialFeatures\n",
        "from sklearn.linear_model import LinearRegression\n",
        "from sklearn.metrics import accuracy_score, precision_score, recall_score, f1_score\n",
        "import numpy as np\n",
        "import time\n",
        "\n",
        "# Apply PCA to reduce to 2 dimensions\n",
        "pca = PCA(n_components=2)\n",
        "x_train_pca = pca.fit_transform(x_train)\n",
        "x_test_pca = pca.transform(x_test)\n",
        "\n",
        "start_time = time.time()\n",
        "degree = 5\n",
        "poly = PolynomialFeatures(degree=degree)\n",
        "x_train_poly = poly.fit_transform(x_train_pca)\n",
        "x_test_poly = poly.fit_transform(x_test_pca)\n",
        "\n",
        "lin_reg_2 = LinearRegression()\n",
        "lin_reg_2.fit(x_train_poly,y_train)\n",
        "end_time = time.time()\n",
        "\n",
        "# Calculating training time\n",
        "training_time_model_2 = end_time-start_time\n",
        "\n",
        "# Predicting the value on test and rounding it off to closest integer and cliping it from 0 to 9\n",
        "y_pred = lin_reg_2.predict(x_test_poly)\n",
        "y_pred = np.round(y_pred).astype(int)\n",
        "y_pred = np.clip(y_pred, 0, 9)"
      ],
      "metadata": {
        "id": "e3b0Sl1NM4Ya"
      },
      "execution_count": 25,
      "outputs": []
    },
    {
      "cell_type": "code",
      "source": [
        "# Finding accuracy, precision, recall and f1 score for the model\n",
        "accuracy_percentage_model_2=(accuracy_score(y_test,y_pred))*100\n",
        "precision_percentage_model_2=(precision_score(y_test, y_pred, average=\"weighted\"))*100\n",
        "recall_percentage_model_2=(recall_score(y_test,y_pred, average=\"weighted\"))*100\n",
        "f1_percentage_model_2=(f1_score(y_test,y_pred, average=\"weighted\"))*100\n",
        "\n",
        "print(\"Polynomial Regression Stats:\")\n",
        "print(f\"Accuracy: {accuracy_percentage_model_2:.2f}%\")\n",
        "print(f\"Precision: {precision_percentage_model_2:.2f}%\")\n",
        "print(f\"Recall: {recall_percentage_model_2:.2f}%\")\n",
        "print(f\"F1 Score: {f1_percentage_model_2:.2f}%\")\n",
        "print(f\"Training time: {training_time_model_2:.2f}sec\")"
      ],
      "metadata": {
        "colab": {
          "base_uri": "https://localhost:8080/"
        },
        "id": "edpztHz0On7D",
        "outputId": "10252eaa-65c6-4e82-c494-da3a42a7ffbd"
      },
      "execution_count": 26,
      "outputs": [
        {
          "output_type": "stream",
          "name": "stdout",
          "text": [
            "Polynomial Regression Stats:\n",
            "Accuracy: 19.96%\n",
            "Precision: 24.59%\n",
            "Recall: 19.96%\n",
            "F1 Score: 19.82%\n",
            "Training time: 0.12sec\n"
          ]
        }
      ]
    },
    {
      "cell_type": "markdown",
      "source": [
        "## Guassian Basis Function Regression"
      ],
      "metadata": {
        "id": "v_3mGcaOPPyM"
      }
    },
    {
      "cell_type": "code",
      "source": [
        "from sklearn.decomposition import PCA\n",
        "from sklearn.linear_model import LinearRegression\n",
        "from sklearn.metrics import accuracy_score, precision_score, recall_score, f1_score\n",
        "import numpy as np\n",
        "import time\n",
        "\n",
        "# Apply PCA to reduce to 1 dimensions\n",
        "pca = PCA(n_components=1)\n",
        "x_train_pca = pca.fit_transform(x_train)\n",
        "x_test_pca = pca.transform(x_test)\n",
        "\n",
        "# Creating Gaussian basis functions\n",
        "start_time = time.time()\n",
        "degree = 50\n",
        "centers = np.linspace(-10, 10, degree).reshape(-1, 1)\n",
        "sigma = 2.0  # Standard deviation of Gaussians\n",
        "\n",
        "# Compute Gaussian basis functions\n",
        "x_train_g = np.exp(-((x_train_pca - centers.T) ** 2) / (2 * sigma**2))\n",
        "x_test_g = np.exp(-((x_test_pca - centers.T) ** 2) / (2 * sigma**2))\n",
        "\n",
        "# Train Linear Regression model\n",
        "lin_reg_3 = LinearRegression()\n",
        "lin_reg_3.fit(x_train_g, y_train)\n",
        "end_time = time.time()\n",
        "\n",
        "# Calculating training time\n",
        "training_time_model_3 = end_time-start_time\n",
        "\n",
        "# Make predictions\n",
        "y_pred = lin_reg_3.predict(x_test_g)\n",
        "y_pred = np.round(y_pred).astype(int)\n",
        "y_pred = np.clip(y_pred, 0, 9)"
      ],
      "metadata": {
        "id": "dG9uau9tR4BX"
      },
      "execution_count": 27,
      "outputs": []
    },
    {
      "cell_type": "code",
      "source": [
        "# Finding accuracy, precision, recall and f1 score for the model\n",
        "accuracy_percentage_model_3=(accuracy_score(y_test,y_pred))*100\n",
        "precision_percentage_model_3=(precision_score(y_test, y_pred, average=\"weighted\"))*100\n",
        "recall_percentage_model_3=(recall_score(y_test,y_pred, average=\"weighted\"))*100\n",
        "f1_percentage_model_3=(f1_score(y_test,y_pred, average=\"weighted\"))*100\n",
        "\n",
        "print(\"Guassian Feature Regression Stats:\")\n",
        "print(f\"Accuracy: {accuracy_percentage_model_3:.2f}%\")\n",
        "print(f\"Precision: {precision_percentage_model_3:.2f}%\")\n",
        "print(f\"Recall: {recall_percentage_model_3:.2f}%\")\n",
        "print(f\"F1 Score: {f1_percentage_model_3:.2f}%\")\n",
        "print(f\"Training time: {training_time_model_3:.2f}sec\")"
      ],
      "metadata": {
        "colab": {
          "base_uri": "https://localhost:8080/"
        },
        "id": "52MDyjdSYgIK",
        "outputId": "87cf7529-14e2-44cb-d6df-d79e33b21547"
      },
      "execution_count": 28,
      "outputs": [
        {
          "output_type": "stream",
          "name": "stdout",
          "text": [
            "Guassian Feature Regression Stats:\n",
            "Accuracy: 15.66%\n",
            "Precision: 20.19%\n",
            "Recall: 15.66%\n",
            "F1 Score: 14.26%\n",
            "Training time: 0.04sec\n"
          ]
        },
        {
          "output_type": "stream",
          "name": "stderr",
          "text": [
            "/usr/local/lib/python3.11/dist-packages/sklearn/metrics/_classification.py:1565: UndefinedMetricWarning: Precision is ill-defined and being set to 0.0 in labels with no predicted samples. Use `zero_division` parameter to control this behavior.\n",
            "  _warn_prf(average, modifier, f\"{metric.capitalize()} is\", len(result))\n"
          ]
        }
      ]
    },
    {
      "cell_type": "markdown",
      "source": [
        "## Fourier Features Regreesion"
      ],
      "metadata": {
        "id": "V-zYcQhyac8_"
      }
    },
    {
      "cell_type": "code",
      "source": [
        "from sklearn.decomposition import PCA\n",
        "from sklearn.linear_model import LinearRegression\n",
        "from sklearn.metrics import accuracy_score, precision_score, recall_score, f1_score\n",
        "import numpy as np\n",
        "import time\n",
        "\n",
        "# Apply PCA to reduce to 1 dimensions\n",
        "pca = PCA(n_components=1)\n",
        "x_train_pca = pca.fit_transform(x_train)\n",
        "x_test_pca = pca.transform(x_test)\n",
        "\n",
        "# Creating Fourier Function\n",
        "start_time = time.time()\n",
        "num_terms = 50\n",
        "\n",
        "# Compute Fourier basis features\n",
        "x_train_fourier = np.hstack([np.sin((i+1) * x_train_pca) for i in range(num_terms)] +\n",
        "                            [np.cos((i+1) * x_train_pca) for i in range(num_terms)])\n",
        "\n",
        "x_test_fourier = np.hstack([np.sin((i+1) * x_test_pca) for i in range(num_terms)] +\n",
        "                           [np.cos((i+1) * x_test_pca) for i in range(num_terms)])\n",
        "\n",
        "# Train Linear Regression model\n",
        "lin_reg_4 = LinearRegression()\n",
        "lin_reg_4.fit(x_train_fourier, y_train)\n",
        "end_time = time.time()\n",
        "\n",
        "# Calculating training time\n",
        "training_time_model_4 = end_time-start_time\n",
        "\n",
        "# Make predictions\n",
        "y_pred = lin_reg_4.predict(x_test_fourier)\n",
        "y_pred = np.round(y_pred).astype(int)\n",
        "y_pred = np.clip(y_pred, 0, 9)"
      ],
      "metadata": {
        "id": "yoEG-ZH9ZGlS"
      },
      "execution_count": 29,
      "outputs": []
    },
    {
      "cell_type": "code",
      "source": [
        "# Finding accuracy, precision, recall and f1 score for the model\n",
        "accuracy_percentage_model_4=(accuracy_score(y_test,y_pred))*100\n",
        "precision_percentage_model_4=(precision_score(y_test, y_pred, average=\"weighted\"))*100\n",
        "recall_percentage_model_4=(recall_score(y_test,y_pred, average=\"weighted\"))*100\n",
        "f1_percentage_model_4=(f1_score(y_test,y_pred, average=\"weighted\"))*100\n",
        "\n",
        "print(\"Fourier Feature Regression Stats:\")\n",
        "print(f\"Accuracy: {accuracy_percentage_model_4:.2f}%\")\n",
        "print(f\"Precision: {precision_percentage_model_4:.2f}%\")\n",
        "print(f\"Recall: {recall_percentage_model_4:.2f}%\")\n",
        "print(f\"F1 Score: {f1_percentage_model_4:.2f}%\")\n",
        "print(f\"Training time: {training_time_model_4:.2f}sec\")"
      ],
      "metadata": {
        "colab": {
          "base_uri": "https://localhost:8080/"
        },
        "id": "Z3KSlgxGeTUX",
        "outputId": "523ac6cd-2ebf-4f4f-95e7-1cf2cc256949"
      },
      "execution_count": 30,
      "outputs": [
        {
          "output_type": "stream",
          "name": "stdout",
          "text": [
            "Fourier Feature Regression Stats:\n",
            "Accuracy: 8.34%\n",
            "Precision: 3.42%\n",
            "Recall: 8.34%\n",
            "F1 Score: 3.82%\n",
            "Training time: 0.16sec\n"
          ]
        },
        {
          "output_type": "stream",
          "name": "stderr",
          "text": [
            "/usr/local/lib/python3.11/dist-packages/sklearn/metrics/_classification.py:1565: UndefinedMetricWarning: Precision is ill-defined and being set to 0.0 in labels with no predicted samples. Use `zero_division` parameter to control this behavior.\n",
            "  _warn_prf(average, modifier, f\"{metric.capitalize()} is\", len(result))\n"
          ]
        }
      ]
    },
    {
      "cell_type": "markdown",
      "source": [
        "### Conclusion\n",
        "Linear Regression will give bad results for this type of data as the data is non linear and less distinction and we are using PCA for dimensionality reduction making the data too similar which reduces the accuracy."
      ],
      "metadata": {
        "id": "gX_MxJYjfM2B"
      }
    },
    {
      "cell_type": "markdown",
      "source": [
        "## Logistic Regression"
      ],
      "metadata": {
        "id": "BHXtJWtZLVn7"
      }
    },
    {
      "cell_type": "code",
      "source": [
        "from sklearn.linear_model import LogisticRegression\n",
        "from sklearn.metrics import accuracy_score, precision_score, recall_score, f1_score\n",
        "import numpy as np\n",
        "import time\n",
        "\n",
        "# Train Logistic Regression model\n",
        "start_time = time.time()\n",
        "log_reg = LogisticRegression(max_iter=2000)\n",
        "log_reg.fit(x_train, y_train)\n",
        "end_time = time.time()\n",
        "training_time_log_reg = end_time-start_time\n",
        "\n",
        "# Make predictions\n",
        "y_pred = log_reg.predict(x_test)"
      ],
      "metadata": {
        "id": "b1M0WEn8LaE9"
      },
      "execution_count": 31,
      "outputs": []
    },
    {
      "cell_type": "code",
      "source": [
        "# Finding accuracy, precision, recall and f1 score for the model\n",
        "accuracy_percentage_log_reg=(accuracy_score(y_test,y_pred))*100\n",
        "precision_percentage_log_reg=(precision_score(y_test, y_pred, average=\"weighted\"))*100\n",
        "recall_percentage_log_reg=(recall_score(y_test,y_pred, average=\"weighted\"))*100\n",
        "f1_percentage_log_reg=(f1_score(y_test,y_pred, average=\"weighted\"))*100\n",
        "\n",
        "print(\"Logistic Regression Stats:\")\n",
        "print(f\"Accuracy: {accuracy_percentage_log_reg:.2f}%\")\n",
        "print(f\"Precision: {precision_percentage_log_reg:.2f}%\")\n",
        "print(f\"Recall: {recall_percentage_log_reg:.2f}%\")\n",
        "print(f\"F1 Score: {f1_percentage_log_reg:.2f}%\")\n",
        "print(f\"Training time: {training_time_log_reg:.2f}sec\")"
      ],
      "metadata": {
        "colab": {
          "base_uri": "https://localhost:8080/"
        },
        "id": "4UMs8i-fNOQM",
        "outputId": "4c213be7-1695-4c01-bb48-824e666c6df1"
      },
      "execution_count": 32,
      "outputs": [
        {
          "output_type": "stream",
          "name": "stdout",
          "text": [
            "Logistic Regression Stats:\n",
            "Accuracy: 90.83%\n",
            "Precision: 90.82%\n",
            "Recall: 90.83%\n",
            "F1 Score: 90.81%\n",
            "Training time: 4.43sec\n"
          ]
        }
      ]
    },
    {
      "cell_type": "markdown",
      "source": [
        "### Implementing the logistic regresion without using direct function.\n",
        "### We are finding logits and probability through with we are finding loss updating W and b."
      ],
      "metadata": {
        "id": "gnNXQw8Xs8vc"
      }
    },
    {
      "cell_type": "code",
      "source": [
        "import numpy as np\n",
        "from sklearn.preprocessing import OneHotEncoder\n",
        "from sklearn.metrics import accuracy_score, precision_score, recall_score, f1_score\n",
        "import time\n",
        "\n",
        "# One-hot encode labels\n",
        "encoder = OneHotEncoder(sparse_output=False)\n",
        "y_train_onehot = encoder.fit_transform(y_train.reshape(-1, 1))\n",
        "\n",
        "# Initialize weights and bias\n",
        "num_features = x_train.shape[1]\n",
        "\n",
        "W = np.random.randn(num_features, 10) * 0.01\n",
        "b = np.zeros((1, 10))\n",
        "\n",
        "# Hyperparameters\n",
        "learning_rate = 0.1\n",
        "epochs = 500\n",
        "\n",
        "# Training loop\n",
        "start_time = time.time()\n",
        "for epoch in range(epochs):\n",
        "    # Compute logits: Z = XW + b\n",
        "    logits = np.dot(x_train, W) + b\n",
        "\n",
        "    exp_logits = np.exp(logits - np.max(logits, axis=1, keepdims=True))\n",
        "    probs = exp_logits / np.sum(exp_logits, axis=1, keepdims=True)\n",
        "\n",
        "    # Compute loss\n",
        "    loss = -np.mean(np.sum(y_train_onehot * np.log(probs + 1e-8), axis=1))\n",
        "\n",
        "    grad_logits = probs - y_train_onehot\n",
        "    dW = np.dot(x_train.T, grad_logits) / x_train.shape[0]\n",
        "    db = np.mean(grad_logits, axis=0, keepdims=True)\n",
        "\n",
        "    W -= learning_rate * dW\n",
        "    b -= learning_rate * db\n",
        "end_time = time.time()\n",
        "training_time_log_reg_2 = end_time - start_time\n",
        "\n",
        "# Predicting the value\n",
        "logits_test = np.dot(x_test, W) + b\n",
        "y_pred = np.argmax(logits_test, axis=1)"
      ],
      "metadata": {
        "id": "fnHIgU4nSIDJ"
      },
      "execution_count": 33,
      "outputs": []
    },
    {
      "cell_type": "code",
      "source": [
        "# Finding accuracy, precision, recall and f1 score for the model\n",
        "accuracy_percentage_log_reg_2=(accuracy_score(y_test,y_pred))*100\n",
        "precision_percentage_log_reg_2=(precision_score(y_test, y_pred, average=\"weighted\"))*100\n",
        "recall_percentage_log_reg_2=(recall_score(y_test,y_pred, average=\"weighted\"))*100\n",
        "f1_percentage_log_reg_2=(f1_score(y_test,y_pred, average=\"weighted\"))*100\n",
        "\n",
        "print(\"Logistic Regression Stats:\")\n",
        "print(f\"Accuracy: {accuracy_percentage_log_reg_2:.2f}%\")\n",
        "print(f\"Precision: {precision_percentage_log_reg_2:.2f}%\")\n",
        "print(f\"Recall: {recall_percentage_log_reg_2:.2f}%\")\n",
        "print(f\"F1 Score: {f1_percentage_log_reg_2:.2f}%\")\n",
        "print(f\"Training time: {training_time_log_reg_2:.2f}sec\")"
      ],
      "metadata": {
        "colab": {
          "base_uri": "https://localhost:8080/"
        },
        "id": "47URUTi1uJ8R",
        "outputId": "139cce23-a014-4c19-c8ad-56bd3d879a34"
      },
      "execution_count": 34,
      "outputs": [
        {
          "output_type": "stream",
          "name": "stdout",
          "text": [
            "Logistic Regression Stats:\n",
            "Accuracy: 90.16%\n",
            "Precision: 90.13%\n",
            "Recall: 90.16%\n",
            "F1 Score: 90.12%\n",
            "Training time: 17.09sec\n"
          ]
        }
      ]
    },
    {
      "cell_type": "markdown",
      "source": [
        "## Random Forest"
      ],
      "metadata": {
        "id": "nMYAm0WzeTI5"
      }
    },
    {
      "cell_type": "code",
      "source": [
        "from sklearn.ensemble import RandomForestClassifier\n",
        "from sklearn.metrics import accuracy_score, precision_score, recall_score, f1_score\n",
        "import time\n",
        "# Train a Random Forest classifier\n",
        "\n",
        "start_time = time.time()\n",
        "rf_model = RandomForestClassifier(n_estimators=200, n_jobs=-1, random_state=42)\n",
        "rf_model.fit(x_train, y_train)\n",
        "end_time = time.time()\n",
        "training_time_random_forest = end_time - start_time\n",
        "\n",
        "# Make predictions\n",
        "y_pred = rf_model.predict(x_test)"
      ],
      "metadata": {
        "id": "CUb-VETGoiYa"
      },
      "execution_count": 35,
      "outputs": []
    },
    {
      "cell_type": "code",
      "source": [
        "# Finding accuracy, precision, recall and f1 score for the model\n",
        "accuracy_percentage_random_forest=(accuracy_score(y_test,y_pred))*100\n",
        "precision_percentage_random_forest=(precision_score(y_test, y_pred, average=\"weighted\"))*100\n",
        "recall_percentage_random_forest=(recall_score(y_test,y_pred, average=\"weighted\"))*100\n",
        "f1_percentage_random_forest=(f1_score(y_test,y_pred, average=\"weighted\"))*100\n",
        "\n",
        "print(\"Logistic Regression Stats:\")\n",
        "print(f\"Accuracy: {accuracy_percentage_random_forest:.2f}%\")\n",
        "print(f\"Precision: {precision_percentage_random_forest:.2f}%\")\n",
        "print(f\"Recall: {recall_percentage_random_forest:.2f}%\")\n",
        "print(f\"F1 Score: {f1_percentage_random_forest:.2f}%\")\n",
        "print(f\"Training time: {training_time_random_forest:.2f}sec\")"
      ],
      "metadata": {
        "colab": {
          "base_uri": "https://localhost:8080/"
        },
        "id": "dg-Lg-klebIU",
        "outputId": "d4113e97-2fa1-4297-8c8e-385db7203348"
      },
      "execution_count": 36,
      "outputs": [
        {
          "output_type": "stream",
          "name": "stdout",
          "text": [
            "Logistic Regression Stats:\n",
            "Accuracy: 95.28%\n",
            "Precision: 95.28%\n",
            "Recall: 95.28%\n",
            "F1 Score: 95.27%\n",
            "Training time: 6.46sec\n"
          ]
        }
      ]
    },
    {
      "cell_type": "markdown",
      "source": [
        "## K MEANS"
      ],
      "metadata": {
        "id": "aXTeE90GurrM"
      }
    },
    {
      "cell_type": "code",
      "source": [
        "from sklearn.neighbors import KNeighborsClassifier\n",
        "from sklearn.metrics import accuracy_score, precision_score, recall_score, f1_score\n",
        "import time\n",
        "\n",
        "# Train KNN classifier (choosing k=3)\n",
        "start_time = time.time()\n",
        "knn_model = KNeighborsClassifier(n_neighbors=7, n_jobs=-1)\n",
        "knn_model.fit(x_train, y_train)\n",
        "end_time = time.time()\n",
        "training_time_knn = end_time - start_time\n",
        "\n",
        "# Make predictions\n",
        "y_pred = knn_model.predict(x_test)"
      ],
      "metadata": {
        "id": "DUOwi2DkTTQD"
      },
      "execution_count": 37,
      "outputs": []
    },
    {
      "cell_type": "code",
      "source": [
        "# Finding accuracy, precision, recall and f1 score for the model\n",
        "accuracy_percentage_knn=(accuracy_score(y_test,y_pred))*100\n",
        "precision_percentage_knn=(precision_score(y_test, y_pred, average=\"weighted\"))*100\n",
        "recall_percentage_knn=(recall_score(y_test,y_pred, average=\"weighted\"))*100\n",
        "f1_percentage_knn=(f1_score(y_test,y_pred, average=\"weighted\"))*100\n",
        "\n",
        "print(\"Logistic Regression Stats:\")\n",
        "print(f\"Accuracy: {accuracy_percentage_knn:.2f}%\")\n",
        "print(f\"Precision: {precision_percentage_knn:.2f}%\")\n",
        "print(f\"Recall: {recall_percentage_knn:.2f}%\")\n",
        "print(f\"F1 Score: {f1_percentage_knn:.2f}%\")\n",
        "print(f\"Training time: {training_time_knn:.2f}sec\")"
      ],
      "metadata": {
        "colab": {
          "base_uri": "https://localhost:8080/"
        },
        "id": "7UblWKXkwqIo",
        "outputId": "a834dff4-1072-41e2-e809-4eab3724ac53"
      },
      "execution_count": 38,
      "outputs": [
        {
          "output_type": "stream",
          "name": "stdout",
          "text": [
            "Logistic Regression Stats:\n",
            "Accuracy: 94.57%\n",
            "Precision: 94.67%\n",
            "Recall: 94.57%\n",
            "F1 Score: 94.55%\n",
            "Training time: 0.01sec\n"
          ]
        }
      ]
    },
    {
      "cell_type": "markdown",
      "source": [
        "## Neural Networks"
      ],
      "metadata": {
        "id": "hwBaybd-N3YD"
      }
    },
    {
      "cell_type": "code",
      "source": [
        "import torch\n",
        "import torch.nn as nn\n",
        "import torch.optim as optim\n",
        "import torch.nn.functional as F\n",
        "from torch.utils.data import DataLoader, TensorDataset\n",
        "from sklearn.metrics import accuracy_score, precision_score, recall_score, f1_score\n",
        "import time\n",
        "import numpy as np\n",
        "\n",
        "# Convert NumPy arrays to PyTorch tensors\n",
        "x_train_tensor = torch.tensor(x_train, dtype=torch.float32)\n",
        "y_train_tensor = torch.tensor(y_train, dtype=torch.long)\n",
        "x_test_tensor = torch.tensor(x_test, dtype=torch.float32)\n",
        "y_test_tensor = torch.tensor(y_test, dtype=torch.long)\n",
        "\n",
        "# Create DataLoader for batch processing\n",
        "batch_size = 128\n",
        "train_dataset = TensorDataset(x_train_tensor, y_train_tensor)\n",
        "test_dataset = TensorDataset(x_test_tensor, y_test_tensor)\n",
        "train_loader = DataLoader(train_dataset, batch_size=batch_size, shuffle=True)\n",
        "test_loader = DataLoader(test_dataset, batch_size=batch_size, shuffle=False)\n",
        "\n",
        "# Define Neural Network Model\n",
        "class NeuralNet(nn.Module):\n",
        "    def __init__(self):\n",
        "        super(NeuralNet, self).__init__()\n",
        "        self.fc1 = nn.Linear(784, 128)  # Hidden Layer 1\n",
        "        self.fc2 = nn.Linear(128, 64)   # Hidden Layer 2\n",
        "        self.fc3 = nn.Linear(64,32)     # Hidden Layer 3\n",
        "        self.fc4 = nn.Linear(32,16)     # Hidden Layer 4\n",
        "        self.fc5 = nn.Linear(16, 10)    # Output Layer\n",
        "\n",
        "    def forward(self, x):\n",
        "        # Activation function (ReLU)\n",
        "        x = F.relu(self.fc1(x))\n",
        "        x = F.relu(self.fc2(x))\n",
        "        x = F.relu(self.fc3(x))\n",
        "        x = F.relu(self.fc4(x))\n",
        "        x = self.fc5(x)\n",
        "        return x\n",
        "\n",
        "# Initialize model, loss function, and optimizer\n",
        "start_time = time.time()\n",
        "device = torch.device(\"cuda\" if torch.cuda.is_available() else \"cpu\")\n",
        "model = NeuralNet().to(device)\n",
        "criterion = nn.CrossEntropyLoss()\n",
        "optimizer = optim.Adam(model.parameters(), lr=0.001)\n",
        "\n",
        "# Train the model\n",
        "epochs = 10\n",
        "for epoch in range(epochs):\n",
        "    model.train()\n",
        "    total_loss = 0\n",
        "    for x_batch, y_batch in train_loader:\n",
        "        x_batch, y_batch = x_batch.to(device), y_batch.to(device)\n",
        "\n",
        "        optimizer.zero_grad()\n",
        "        outputs = model(x_batch)\n",
        "        loss = criterion(outputs, y_batch)\n",
        "        loss.backward()\n",
        "        optimizer.step()\n",
        "\n",
        "        total_loss += loss.item()\n",
        "end_time = time.time()\n",
        "training_time_nn = end_time - start_time\n",
        "\n",
        "# Evaluate the model\n",
        "model.eval()\n",
        "y_pred = []\n",
        "with torch.no_grad():\n",
        "    for x_batch, y_batch in test_loader:\n",
        "        x_batch, y_batch = x_batch.to(device), y_batch.to(device)\n",
        "        outputs = model(x_batch)\n",
        "        _, predicted = torch.max(outputs, 1)\n",
        "        y_pred.extend(predicted.cpu().numpy())\n",
        "y_pred = np.array(y_pred)"
      ],
      "metadata": {
        "id": "BwLRrl4sOzyJ"
      },
      "execution_count": 39,
      "outputs": []
    },
    {
      "cell_type": "code",
      "source": [
        "# Finding accuracy, precision, recall and f1 score for the model\n",
        "accuracy_percentage_nn=(accuracy_score(y_test,y_pred))*100\n",
        "precision_percentage_nn=(precision_score(y_test, y_pred, average=\"weighted\"))*100\n",
        "recall_percentage_nn=(recall_score(y_test,y_pred, average=\"weighted\"))*100\n",
        "f1_percentage_nn=(f1_score(y_test,y_pred, average=\"weighted\"))*100\n",
        "\n",
        "print(\"Logistic Regression Stats:\")\n",
        "print(f\"Accuracy: {accuracy_percentage_nn:.2f}%\")\n",
        "print(f\"Precision: {precision_percentage_nn:.2f}%\")\n",
        "print(f\"Recall: {recall_percentage_nn:.2f}%\")\n",
        "print(f\"F1 Score: {f1_percentage_nn:.2f}%\")\n",
        "print(f\"Training time: {training_time_nn:.2f}sec\")"
      ],
      "metadata": {
        "colab": {
          "base_uri": "https://localhost:8080/"
        },
        "id": "IRDgzOQ25fD0",
        "outputId": "abcc52b7-76ab-48ce-a9fb-4d9568f97442"
      },
      "execution_count": 40,
      "outputs": [
        {
          "output_type": "stream",
          "name": "stdout",
          "text": [
            "Logistic Regression Stats:\n",
            "Accuracy: 92.87%\n",
            "Precision: 92.92%\n",
            "Recall: 92.87%\n",
            "F1 Score: 92.86%\n",
            "Training time: 6.55sec\n"
          ]
        }
      ]
    }
  ]
}